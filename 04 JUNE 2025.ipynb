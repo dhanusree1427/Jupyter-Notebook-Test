{
 "cells": [
  {
   "cell_type": "code",
   "execution_count": 1,
   "id": "5faf570d-6485-4aa2-bd1b-874d0871a257",
   "metadata": {},
   "outputs": [
    {
     "name": "stdout",
     "output_type": "stream",
     "text": [
      "Uppercase letters count:  3\n",
      "Lowercase letters count:  3\n",
      "Digits count:  4\n",
      "Special Characters count:  5\n"
     ]
    }
   ],
   "source": [
    "# i/p: Aps#*$@sDC@7679\n",
    "# o/p: Uppercase letters count: 3\n",
    "    # Lowercase letters count: 3\n",
    "      # Digits count: 4\n",
    "       # Special characters count: 5\n",
    "text= \"Aps#*$@sDC@7679\"\n",
    "upper = 0\n",
    "lower = 0\n",
    "digits = 0\n",
    "special = 0\n",
    "for ch in text:\n",
    "    if ch.isupper():\n",
    "        upper += 1\n",
    "    elif ch.islower():\n",
    "        lower += 1\n",
    "    elif ch.isdigit():\n",
    "        digits += 1\n",
    "    else:\n",
    "        special += 1\n",
    "print(\"Uppercase letters count: \", upper)\n",
    "print(\"Lowercase letters count: \", lower)\n",
    "print(\"Digits count: \", digits)\n",
    "print(\"Special Characters count: \", special)"
   ]
  },
  {
   "cell_type": "code",
   "execution_count": 7,
   "id": "99fe5c3f-a237-4def-91bf-fcacaf41cf79",
   "metadata": {},
   "outputs": [
    {
     "name": "stdout",
     "output_type": "stream",
     "text": [
      "Vowels:  ['e', 'o', 'o']\n",
      "Consonents:  ['H', 'l', 'l', ' ', 'w', 'r', 'l', 'd']\n"
     ]
    }
   ],
   "source": [
    "# Print vowels and consonants in a string using functions\n",
    "# Hello World  - i/p\n",
    "# vowels  - o/p\n",
    "# consonents  - Hlllrwd\n",
    "word = \"Hello world\"\n",
    "vowels = ([ch for ch in word if ch in 'aeiou'])\n",
    "consonents = ([ch for ch in word if ch not in 'aeiou'])\n",
    "print(\"Vowels: \",vowels)\n",
    "print(\"Consonents: \",consonents)"
   ]
  },
  {
   "cell_type": "code",
   "execution_count": 46,
   "id": "1f38e7f4-cfab-4d1f-9994-2d8de0d77037",
   "metadata": {},
   "outputs": [],
   "source": [
    "# i/p: 8954621\n",
    "# o/p: 6 9 ------ divisibl by 3\n",
    "n = [8954621]\n",
    "for i in n:\n",
    "    if int(i)%3==0:\n",
    "        print(i, end = \" \")"
   ]
  },
  {
   "cell_type": "code",
   "execution_count": 34,
   "id": "2abfc9cf-84a1-4a0b-991c-edc7d8be9d62",
   "metadata": {},
   "outputs": [
    {
     "name": "stdout",
     "output_type": "stream",
     "text": [
      "python rgami\n"
     ]
    }
   ],
   "source": [
    "# remove the duplicate characters\n",
    "# i/p: python programming\n",
    "# o/p: python rgami\n",
    "word = \"python programming\"\n",
    "duplicate = \"\"\n",
    "for c in word:\n",
    "    if c not in duplicate:\n",
    "        duplicate += c\n",
    "print(duplicate)"
   ]
  },
  {
   "cell_type": "code",
   "execution_count": 23,
   "id": "fbad20eb-014e-47fe-9fa6-acd4cfa67827",
   "metadata": {},
   "outputs": [
    {
     "name": "stdout",
     "output_type": "stream",
     "text": [
      "33\n"
     ]
    }
   ],
   "source": [
    "# sum of digits of a number\n",
    "# i/p: 78459\n",
    "# 0/p: 33\n",
    "n = [7,8,4,5,9]\n",
    "print(sum(n))"
   ]
  },
  {
   "cell_type": "code",
   "execution_count": 31,
   "id": "e9df66bd-c595-4746-84b0-18cdd690ae1d",
   "metadata": {},
   "outputs": [
    {
     "name": "stdin",
     "output_type": "stream",
     "text": [
      "Enter a number:  5\n"
     ]
    },
    {
     "name": "stdout",
     "output_type": "stream",
     "text": [
      "The factorial of  120\n"
     ]
    }
   ],
   "source": [
    "# factorial progrm using while loop\n",
    "num = int(input(\"Enter a number: \"))\n",
    "factorial = 1\n",
    "i = 1\n",
    "while i <= num:\n",
    "    factorial *= i\n",
    "    i += 1\n",
    "print(\"The factorial of \",factorial)"
   ]
  },
  {
   "cell_type": "code",
   "execution_count": 18,
   "id": "8664ab24-1ac6-4efd-8693-997ab0f91894",
   "metadata": {},
   "outputs": [
    {
     "name": "stdout",
     "output_type": "stream",
     "text": [
      "66\n"
     ]
    }
   ],
   "source": [
    "# print the maximum value n list\n",
    "# [4,5,7,8,9,12,56,22,8,9,66]\n",
    "# o/p: 66\n",
    "n = [4,5,7,8,9,12,56,22,8,9,66]\n",
    "max = n[0]\n",
    "for i in n:\n",
    "    if i>max:\n",
    "        max=i\n",
    "print(max)"
   ]
  },
  {
   "cell_type": "code",
   "execution_count": 20,
   "id": "1a28860f-1353-4533-a37b-5f564ecde6aa",
   "metadata": {},
   "outputs": [
    {
     "name": "stdout",
     "output_type": "stream",
     "text": [
      "4\n"
     ]
    }
   ],
   "source": [
    "# print the minimum value n list\n",
    "# [4,5,7,8,9,12,56,22,8,9,66]\n",
    "# o/p: 66\n",
    "n = [4,5,7,8,9,12,56,22,8,9,66]\n",
    "min = n[0]\n",
    "for i in n:\n",
    "    if i<min:\n",
    "        min=i\n",
    "print(min)"
   ]
  },
  {
   "cell_type": "code",
   "execution_count": 27,
   "id": "4d87895f-970a-4293-8fa9-5cb07de2ac81",
   "metadata": {},
   "outputs": [
    {
     "name": "stdout",
     "output_type": "stream",
     "text": [
      "this :2\n",
      "is :2\n",
      "a :2\n",
      "test :2\n",
      "only :1\n"
     ]
    }
   ],
   "source": [
    "# count occurances of each word in a string using dictionary\n",
    "# i/p: \"this is a test this is only a test\"\n",
    "# o/p: {'this':2, 'is': 2, 'a': 2...........}\n",
    "text = \"this is a test this is only a test\"\n",
    "word = text.split()\n",
    "count = {}\n",
    "for w in word:\n",
    "    if w in count:\n",
    "        count[w] +=1\n",
    "    else:\n",
    "        count[w] =1\n",
    "for w, count in count.items(): \n",
    "    print(f\"{w} :{count}\")"
   ]
  },
  {
   "cell_type": "code",
   "execution_count": 26,
   "id": "1a8e43e2-abdb-46a2-ab93-76595f2562cd",
   "metadata": {},
   "outputs": [],
   "source": [
    "# print second largest value in list\n",
    "# i/p: [3,4,5,7,8,9,78,1,2,67]\n",
    "# o/p: 67"
   ]
  },
  {
   "cell_type": "code",
   "execution_count": 12,
   "id": "d68ce64c-4655-40d2-bb84-b63691d7be9c",
   "metadata": {},
   "outputs": [
    {
     "name": "stdout",
     "output_type": "stream",
     "text": [
      "{'A': 90, 'B': 56, 'C': 89, 'D': 45}\n"
     ]
    }
   ],
   "source": [
    "# sum of all values in a dictionary\n",
    "# i/p: {'a':90, 'b':56, 'c':89, 'd':45}\n",
    "# o/p: sum of all values\n",
    "words = {'a':90, 'b':56, 'c':89, 'd':45}\n",
    "upper = {k.upper():v for k,v in words.items()}\n",
    "print(upper)"
   ]
  },
  {
   "cell_type": "code",
   "execution_count": null,
   "id": "5e80ad44-237c-4355-b490-546582362267",
   "metadata": {},
   "outputs": [],
   "source": []
  }
 ],
 "metadata": {
  "kernelspec": {
   "display_name": "Python 3 (ipykernel)",
   "language": "python",
   "name": "python3"
  },
  "language_info": {
   "codemirror_mode": {
    "name": "ipython",
    "version": 3
   },
   "file_extension": ".py",
   "mimetype": "text/x-python",
   "name": "python",
   "nbconvert_exporter": "python",
   "pygments_lexer": "ipython3",
   "version": "3.12.7"
  }
 },
 "nbformat": 4,
 "nbformat_minor": 5
}
