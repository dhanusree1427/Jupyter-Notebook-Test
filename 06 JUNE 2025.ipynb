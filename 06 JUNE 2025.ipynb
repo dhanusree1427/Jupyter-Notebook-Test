{
 "cells": [
  {
   "cell_type": "markdown",
   "id": "6354c29a-42fa-4fde-9435-f529ec085be7",
   "metadata": {},
   "source": [
    "### Packages and Modules"
   ]
  },
  {
   "cell_type": "markdown",
   "id": "c40d068d-ca35-4c1f-a9dc-ab716422be0b",
   "metadata": {},
   "source": [
    "- # What is a Module?\n",
    "      - Collection of function, methods, classes.... etc.\n",
    "      - Python code\n",
    "      - .py\n",
    "      - 2 types of modules\n",
    "           - 1. builtin modules ---> os, math, keyword, random.... etc\n",
    "           - 2. user defined modules -----> It can be created by the users.\n",
    "- # What is a package?\n",
    "      - Collection of modules is called a package."
   ]
  },
  {
   "cell_type": "code",
   "execution_count": 1,
   "id": "db554a61-f530-4c0f-9166-94afe280e5b4",
   "metadata": {},
   "outputs": [
    {
     "name": "stdout",
     "output_type": "stream",
     "text": [
      "['False', 'None', 'True', 'and', 'as', 'assert', 'async', 'await', 'break', 'class', 'continue', 'def', 'del', 'elif', 'else', 'except', 'finally', 'for', 'from', 'global', 'if', 'import', 'in', 'is', 'lambda', 'nonlocal', 'not', 'or', 'pass', 'raise', 'return', 'try', 'while', 'with', 'yield']\n"
     ]
    }
   ],
   "source": [
    "import keyword\n",
    "print(keyword.kwlist)"
   ]
  },
  {
   "cell_type": "code",
   "execution_count": 4,
   "id": "c6c1c221-c57f-4c41-b9a3-05002e8e6481",
   "metadata": {},
   "outputs": [
    {
     "name": "stdout",
     "output_type": "stream",
     "text": [
      "['__doc__', '__loader__', '__name__', '__package__', '__spec__', 'acos', 'acosh', 'asin', 'asinh', 'atan', 'atan2', 'atanh', 'cbrt', 'ceil', 'comb', 'copysign', 'cos', 'cosh', 'degrees', 'dist', 'e', 'erf', 'erfc', 'exp', 'exp2', 'expm1', 'fabs', 'factorial', 'floor', 'fmod', 'frexp', 'fsum', 'gamma', 'gcd', 'hypot', 'inf', 'isclose', 'isfinite', 'isinf', 'isnan', 'isqrt', 'lcm', 'ldexp', 'lgamma', 'log', 'log10', 'log1p', 'log2', 'modf', 'nan', 'nextafter', 'perm', 'pi', 'pow', 'prod', 'radians', 'remainder', 'sin', 'sinh', 'sqrt', 'sumprod', 'tan', 'tanh', 'tau', 'trunc', 'ulp'] "
     ]
    }
   ],
   "source": [
    "print(dir(math),end=' ')"
   ]
  },
  {
   "cell_type": "code",
   "execution_count": 9,
   "id": "29694602-f445-48e2-8bdd-893640e60241",
   "metadata": {},
   "outputs": [
    {
     "name": "stdout",
     "output_type": "stream",
     "text": [
      "5.0\n",
      "8\n",
      "7\n",
      "120\n"
     ]
    }
   ],
   "source": [
    "import math\n",
    "print(math.sqrt(25))\n",
    "print(math.ceil(7.8)) # top value\n",
    "print(math.floor(7.8)) # down value\n",
    "print(math.factorial(5))"
   ]
  },
  {
   "cell_type": "code",
   "execution_count": 19,
   "id": "e0e25e24-bd6c-4543-b148-f9a4af24f0e3",
   "metadata": {},
   "outputs": [
    {
     "name": "stdout",
     "output_type": "stream",
     "text": [
      "['BPF', 'LOG4', 'NV_MAGICCONST', 'RECIP_BPF', 'Random', 'SG_MAGICCONST', 'SystemRandom', 'TWOPI', '_ONE', '_Sequence', '__all__', '__builtins__', '__cached__', '__doc__', '__file__', '__loader__', '__name__', '__package__', '__spec__', '_accumulate', '_acos', '_bisect', '_ceil', '_cos', '_e', '_exp', '_fabs', '_floor', '_index', '_inst', '_isfinite', '_lgamma', '_log', '_log2', '_os', '_pi', '_random', '_repeat', '_sha512', '_sin', '_sqrt', '_test', '_test_generator', '_urandom', '_warn', 'betavariate', 'binomialvariate', 'choice', 'choices', 'expovariate', 'gammavariate', 'gauss', 'getrandbits', 'getstate', 'lognormvariate', 'normalvariate', 'paretovariate', 'randbytes', 'randint', 'random', 'randrange', 'sample', 'seed', 'setstate', 'shuffle', 'triangular', 'uniform', 'vonmisesvariate', 'weibullvariate'] "
     ]
    }
   ],
   "source": [
    "print(dir (random),end=' ')"
   ]
  },
  {
   "cell_type": "code",
   "execution_count": 14,
   "id": "29f81688-7d42-4615-9cb2-633e88ff2f67",
   "metadata": {},
   "outputs": [
    {
     "name": "stdout",
     "output_type": "stream",
     "text": [
      "3\n"
     ]
    }
   ],
   "source": [
    "import random\n",
    "n = random.randint(1,10)\n",
    "print(n)"
   ]
  },
  {
   "cell_type": "code",
   "execution_count": 21,
   "id": "2e3bc8f2-6a57-45c8-b62a-b03005d4b4a0",
   "metadata": {},
   "outputs": [
    {
     "name": "stdout",
     "output_type": "stream",
     "text": [
      "[6, 1, 4, 8, 2]\n"
     ]
    }
   ],
   "source": [
    "import random\n",
    "n = random.sample(range(1,11),5)\n",
    "print(n)"
   ]
  },
  {
   "cell_type": "code",
   "execution_count": 24,
   "id": "1bec1d2e-017f-4eef-9729-262b20985082",
   "metadata": {},
   "outputs": [
    {
     "name": "stdout",
     "output_type": "stream",
     "text": [
      "OTP is:  535577\n"
     ]
    }
   ],
   "source": [
    "# Generate a otp\n",
    "import random\n",
    "otp = random.randint(200000,999999)\n",
    "print('OTP is: ',otp)"
   ]
  },
  {
   "cell_type": "code",
   "execution_count": 25,
   "id": "4b987e0e-d07a-4023-ac58-ae5fd7c88fa0",
   "metadata": {},
   "outputs": [
    {
     "name": "stdin",
     "output_type": "stream",
     "text": [
      " 0\n",
      " 0\n"
     ]
    }
   ],
   "source": [
    "# user defined modules\n",
    "from package import module1"
   ]
  },
  {
   "cell_type": "code",
   "execution_count": 26,
   "id": "69b7f021-5006-486f-a1ed-ee35e06720ab",
   "metadata": {},
   "outputs": [
    {
     "name": "stdout",
     "output_type": "stream",
     "text": [
      "odd\n"
     ]
    }
   ],
   "source": [
    "module1.evenodd(5)"
   ]
  },
  {
   "cell_type": "code",
   "execution_count": 27,
   "id": "a3f267e0-50c9-42f5-b187-bec4d9126790",
   "metadata": {},
   "outputs": [
    {
     "name": "stdout",
     "output_type": "stream",
     "text": [
      "even\n"
     ]
    }
   ],
   "source": [
    "module1.evenodd(4)"
   ]
  },
  {
   "cell_type": "code",
   "execution_count": 29,
   "id": "dc77abc9-e961-49c4-ac9b-331d43a71a9b",
   "metadata": {},
   "outputs": [
    {
     "name": "stdout",
     "output_type": "stream",
     "text": [
      "palindrome\n"
     ]
    }
   ],
   "source": [
    "module1.palindrome('mom')"
   ]
  },
  {
   "cell_type": "code",
   "execution_count": 30,
   "id": "0ef69475-9ec3-4ffe-a3a2-f8bb2761c379",
   "metadata": {},
   "outputs": [
    {
     "name": "stdout",
     "output_type": "stream",
     "text": [
      "palindrome\n"
     ]
    }
   ],
   "source": [
    "module1.palindrome('dad')"
   ]
  },
  {
   "cell_type": "code",
   "execution_count": 31,
   "id": "3dc393c8-1008-4e2d-af6d-77e65fa0864c",
   "metadata": {},
   "outputs": [
    {
     "name": "stdout",
     "output_type": "stream",
     "text": [
      "not palindrome\n"
     ]
    }
   ],
   "source": [
    "module1.palindrome('abcd')"
   ]
  },
  {
   "cell_type": "code",
   "execution_count": 33,
   "id": "7af021bc-3cc9-48b0-80ba-593563e50f77",
   "metadata": {},
   "outputs": [],
   "source": [
    "from package import module1,module2"
   ]
  },
  {
   "cell_type": "code",
   "execution_count": 34,
   "id": "153dc339-0f91-4624-b359-2a15c4ed87de",
   "metadata": {},
   "outputs": [
    {
     "name": "stdout",
     "output_type": "stream",
     "text": [
      "12\n"
     ]
    }
   ],
   "source": [
    "module2.add1(5,7)"
   ]
  },
  {
   "cell_type": "code",
   "execution_count": 42,
   "id": "95e072ba-bfe5-4b8c-ada2-424dd939f7d3",
   "metadata": {},
   "outputs": [
    {
     "name": "stdout",
     "output_type": "stream",
     "text": [
      "-2\n"
     ]
    }
   ],
   "source": [
    "module2.sub(2,4)"
   ]
  },
  {
   "cell_type": "code",
   "execution_count": 45,
   "id": "4c268de1-adf5-4bf2-bba4-884fbe2f7e00",
   "metadata": {},
   "outputs": [],
   "source": [
    "from package import module2"
   ]
  },
  {
   "cell_type": "code",
   "execution_count": null,
   "id": "634ae1ba-6789-46f3-8ab7-12a2be5a8f25",
   "metadata": {},
   "outputs": [],
   "source": []
  }
 ],
 "metadata": {
  "kernelspec": {
   "display_name": "Python 3 (ipykernel)",
   "language": "python",
   "name": "python3"
  },
  "language_info": {
   "codemirror_mode": {
    "name": "ipython",
    "version": 3
   },
   "file_extension": ".py",
   "mimetype": "text/x-python",
   "name": "python",
   "nbconvert_exporter": "python",
   "pygments_lexer": "ipython3",
   "version": "3.12.7"
  }
 },
 "nbformat": 4,
 "nbformat_minor": 5
}
