{
 "cells": [
  {
   "cell_type": "markdown",
   "id": "b031fbc2-7b00-41ee-9d42-4733f8dc8d39",
   "metadata": {},
   "source": [
    "** Order of data structures**\n",
    " 1. tuple\n",
    "     - data structure that allows the user to store different data itemsat a time.\n",
    "     - immutable innature(disadvantage)\n",
    " 2. list\n",
    "     - list of students, marks list, list of items etc.\n",
    "     - list allows the duplicate data.\n",
    "     - canany 2 stdents have the same rool num/id?"
   ]
  },
  {
   "cell_type": "code",
   "execution_count": 3,
   "id": "79922cf0-3972-45b8-8e22-de0a8c071606",
   "metadata": {},
   "outputs": [
    {
     "data": {
      "text/plain": [
       "{0, 5, 6, 7, 8, 9, 67}"
      ]
     },
     "execution_count": 3,
     "metadata": {},
     "output_type": "execute_result"
    }
   ],
   "source": [
    "A = {7,6,8,5,8,9,0,67,9,6}\n",
    "A"
   ]
  },
  {
   "cell_type": "code",
   "execution_count": 5,
   "id": "653a83f9-82e1-4df9-afcb-a7f4f6f41175",
   "metadata": {},
   "outputs": [
    {
     "data": {
      "text/plain": [
       "{35, 4, 45, 5, 6, 65, 7, 77, 8, 87, 'a', 'r'}"
      ]
     },
     "execution_count": 5,
     "metadata": {},
     "output_type": "execute_result"
    }
   ],
   "source": [
    "B = {5,6,7,8,4,35,65,77,87,45,45,'a','r'}\n",
    "B"
   ]
  },
  {
   "cell_type": "code",
   "execution_count": 26,
   "id": "f732b4d2-0b70-43e3-af90-4dd0c581d13f",
   "metadata": {},
   "outputs": [
    {
     "name": "stdout",
     "output_type": "stream",
     "text": [
      "['__and__', '__class__', '__class_getitem__', '__contains__', '__delattr__', '__dir__', '__doc__', '__eq__', '__format__', '__ge__', '__getattribute__', '__getstate__', '__gt__', '__hash__', '__iand__', '__init__', '__init_subclass__', '__ior__', '__isub__', '__iter__', '__ixor__', '__le__', '__len__', '__lt__', '__ne__', '__new__', '__or__', '__rand__', '__reduce__', '__reduce_ex__', '__repr__', '__ror__', '__rsub__', '__rxor__', '__setattr__', '__sizeof__', '__str__', '__sub__', '__subclasshook__', '__xor__', 'add', 'clear', 'copy', 'difference', 'difference_update', 'discard', 'intersection', 'intersection_update', 'isdisjoint', 'issubset', 'issuperset', 'pop', 'remove', 'symmetric_difference', 'symmetric_difference_update', 'union', 'update']\n"
     ]
    }
   ],
   "source": [
    "print(dir(set))"
   ]
  },
  {
   "cell_type": "code",
   "execution_count": 9,
   "id": "aac8b51b-5afd-4175-8d94-28aa8eec4eab",
   "metadata": {},
   "outputs": [
    {
     "data": {
      "text/plain": [
       "(97, 120)"
      ]
     },
     "execution_count": 9,
     "metadata": {},
     "output_type": "execute_result"
    }
   ],
   "source": [
    "ord('a'),ord('x')"
   ]
  },
  {
   "cell_type": "code",
   "execution_count": 5,
   "id": "a84d13c9-31f1-4aeb-8f87-17e7440608bb",
   "metadata": {},
   "outputs": [
    {
     "data": {
      "text/plain": [
       "('Z', '\\n', '\\x0c')"
      ]
     },
     "execution_count": 5,
     "metadata": {},
     "output_type": "execute_result"
    }
   ],
   "source": [
    "chr(90),chr(10),chr(12)"
   ]
  },
  {
   "cell_type": "code",
   "execution_count": 7,
   "id": "808b4a5a-0907-4295-a8a6-cd16932e77ff",
   "metadata": {},
   "outputs": [
    {
     "data": {
      "text/plain": [
       "({0, 5, 6, 7, 8, 9, 67}, {35, 4, 45, 5, 6, 65, 7, 77, 8, 87, 'a', 'r'})"
      ]
     },
     "execution_count": 7,
     "metadata": {},
     "output_type": "execute_result"
    }
   ],
   "source": [
    "A,B"
   ]
  },
  {
   "cell_type": "code",
   "execution_count": 34,
   "id": "bb466050-e1f0-47e3-a61c-d65543c378b5",
   "metadata": {},
   "outputs": [
    {
     "data": {
      "text/plain": [
       "{5, 6, 7, 8, 9}"
      ]
     },
     "execution_count": 34,
     "metadata": {},
     "output_type": "execute_result"
    }
   ],
   "source": [
    "A.intersection(B) # common elements from A&B "
   ]
  },
  {
   "cell_type": "code",
   "execution_count": 10,
   "id": "72066030-7577-4a1a-b475-1e5f077a241f",
   "metadata": {},
   "outputs": [
    {
     "data": {
      "text/plain": [
       "{0, 35, 4, 45, 5, 6, 65, 67, 7, 77, 8, 87, 9, 'a', 'r'}"
      ]
     },
     "execution_count": 10,
     "metadata": {},
     "output_type": "execute_result"
    }
   ],
   "source": [
    "A = {7,6,8,5,8,9,0,67,9,6}\n",
    "B = {5,6,7,8,4,35,65,77,87,45,45,'a','r'}\n",
    "A.union(B) # combination of A&B"
   ]
  },
  {
   "cell_type": "code",
   "execution_count": 35,
   "id": "dedc548e-a570-424b-ba58-9f6dd8f469fb",
   "metadata": {},
   "outputs": [
    {
     "data": {
      "text/plain": [
       "{0, 100, 4, 45, 67, 87, 'a', 'r'}"
      ]
     },
     "execution_count": 35,
     "metadata": {},
     "output_type": "execute_result"
    }
   ],
   "source": [
    "A.symmetric_difference(B) # non-similar elements from both sets"
   ]
  },
  {
   "cell_type": "code",
   "execution_count": 11,
   "id": "994942e8-5481-4a9a-89d8-06fe55896c10",
   "metadata": {},
   "outputs": [
    {
     "data": {
      "text/plain": [
       "{0, 9, 67}"
      ]
     },
     "execution_count": 11,
     "metadata": {},
     "output_type": "execute_result"
    }
   ],
   "source": [
    "A-B # 9-4 = 5(deleting the vlues of b)"
   ]
  },
  {
   "cell_type": "code",
   "execution_count": 36,
   "id": "c5ce3dc6-2f08-49aa-a352-87dcd2b8b0cc",
   "metadata": {},
   "outputs": [
    {
     "name": "stdout",
     "output_type": "stream",
     "text": [
      "{0, 67, 4, 5, 6, 7, 8, 9}\n"
     ]
    },
    {
     "data": {
      "text/plain": [
       "{0, 4, 67}"
      ]
     },
     "execution_count": 36,
     "metadata": {},
     "output_type": "execute_result"
    }
   ],
   "source": [
    "print(A)\n",
    "A.difference(B) # 9-4=5"
   ]
  },
  {
   "cell_type": "code",
   "execution_count": 13,
   "id": "fb6ae4fc-528e-4266-be29-2f22b2ce7544",
   "metadata": {},
   "outputs": [],
   "source": [
    "B.add(100)"
   ]
  },
  {
   "cell_type": "code",
   "execution_count": 14,
   "id": "7b013a7f-c9d6-4c61-bed6-be3cc63cd8ac",
   "metadata": {},
   "outputs": [
    {
     "data": {
      "text/plain": [
       "{100, 35, 4, 45, 5, 6, 65, 7, 77, 8, 87, 'a', 'r'}"
      ]
     },
     "execution_count": 14,
     "metadata": {},
     "output_type": "execute_result"
    }
   ],
   "source": [
    "B"
   ]
  },
  {
   "cell_type": "code",
   "execution_count": 37,
   "id": "14bf2947-70cf-42b3-8bc0-469ee8755ca3",
   "metadata": {},
   "outputs": [],
   "source": [
    "B.discard(35) # delete the element & don't shows the error "
   ]
  },
  {
   "cell_type": "code",
   "execution_count": 16,
   "id": "22f4c1de-3cdc-48ed-ac78-002bfaa7871d",
   "metadata": {},
   "outputs": [
    {
     "data": {
      "text/plain": [
       "{100, 4, 45, 5, 6, 65, 7, 77, 8, 87, 'a', 'r'}"
      ]
     },
     "execution_count": 16,
     "metadata": {},
     "output_type": "execute_result"
    }
   ],
   "source": [
    "B"
   ]
  },
  {
   "cell_type": "code",
   "execution_count": 39,
   "id": "5f71bdf3-cefa-43a0-a081-b9dad00f3b65",
   "metadata": {},
   "outputs": [],
   "source": [
    "B.remove(7) # delete the specific element"
   ]
  },
  {
   "cell_type": "code",
   "execution_count": 18,
   "id": "15c21c0a-4914-4a20-b082-b74d0d3d1260",
   "metadata": {},
   "outputs": [
    {
     "data": {
      "text/plain": [
       "{100, 4, 45, 5, 6, 65, 7, 8, 87, 'a', 'r'}"
      ]
     },
     "execution_count": 18,
     "metadata": {},
     "output_type": "execute_result"
    }
   ],
   "source": [
    "B"
   ]
  },
  {
   "cell_type": "code",
   "execution_count": 12,
   "id": "32e05da0-a002-450d-b383-9c8132ec2138",
   "metadata": {},
   "outputs": [
    {
     "data": {
      "text/plain": [
       "35"
      ]
     },
     "execution_count": 12,
     "metadata": {},
     "output_type": "execute_result"
    }
   ],
   "source": [
    "B.pop() # removes last element"
   ]
  },
  {
   "cell_type": "code",
   "execution_count": 13,
   "id": "6b9b96e5-55aa-4eee-af9a-8d46d5ad79d0",
   "metadata": {},
   "outputs": [
    {
     "data": {
      "text/plain": [
       "{4, 45, 5, 6, 7, 77, 8, 87, 'a', 'r'}"
      ]
     },
     "execution_count": 13,
     "metadata": {},
     "output_type": "execute_result"
    }
   ],
   "source": [
    "B"
   ]
  },
  {
   "cell_type": "code",
   "execution_count": 21,
   "id": "bcdd038d-952d-499a-b938-1ac0d70d854b",
   "metadata": {},
   "outputs": [
    {
     "data": {
      "text/plain": [
       "{100, 4, 45, 5, 6, 7, 8, 87, 9, 'a', 'r'}"
      ]
     },
     "execution_count": 21,
     "metadata": {},
     "output_type": "execute_result"
    }
   ],
   "source": [
    "B.update({5,6,7,8,9})\n",
    "B"
   ]
  },
  {
   "cell_type": "code",
   "execution_count": 32,
   "id": "6be90390-83a8-49f3-9df8-921e556c7c7a",
   "metadata": {},
   "outputs": [
    {
     "data": {
      "text/plain": [
       "False"
      ]
     },
     "execution_count": 32,
     "metadata": {},
     "output_type": "execute_result"
    }
   ],
   "source": [
    "A.isdisjoint(B) # Not connected or no common element"
   ]
  },
  {
   "cell_type": "code",
   "execution_count": 23,
   "id": "1556499f-81c8-4f7c-a8a2-37fde49588ab",
   "metadata": {},
   "outputs": [
    {
     "data": {
      "text/plain": [
       "False"
      ]
     },
     "execution_count": 23,
     "metadata": {},
     "output_type": "execute_result"
    }
   ],
   "source": [
    "A.issuperset(B)"
   ]
  },
  {
   "cell_type": "code",
   "execution_count": 24,
   "id": "531460a7-c74f-4b1f-bc25-79b2b7ed800d",
   "metadata": {},
   "outputs": [
    {
     "data": {
      "text/plain": [
       "False"
      ]
     },
     "execution_count": 24,
     "metadata": {},
     "output_type": "execute_result"
    }
   ],
   "source": [
    "B.issubset(A)"
   ]
  },
  {
   "cell_type": "code",
   "execution_count": 33,
   "id": "5cd8f67c-1e8d-4e13-a5a0-3d000c573963",
   "metadata": {},
   "outputs": [
    {
     "data": {
      "text/plain": [
       "{0, 4, 5, 6, 7, 8, 9, 67}"
      ]
     },
     "execution_count": 33,
     "metadata": {},
     "output_type": "execute_result"
    }
   ],
   "source": [
    "A.symmetric_difference_update(B) # non-common elements\n",
    "A"
   ]
  },
  {
   "cell_type": "markdown",
   "id": "478c4942-500d-4f41-b054-0c576caaddc5",
   "metadata": {},
   "source": [
    " #### Dict\n",
    "- It is paired data structure contains key and value\n",
    "- (key:value)\n",
    "- dictionary methods\n",
    "    - dict.keys()\n",
    "         - all the keys from ditionary\n",
    "    - dic.values()\n",
    "         - all the values from dict"
   ]
  },
  {
   "cell_type": "markdown",
   "id": "51bf443c-5678-4321-afb1-e2a7cb2faa0f",
   "metadata": {},
   "source": [
    "#### Files\n",
    "- "
   ]
  },
  {
   "cell_type": "code",
   "execution_count": 40,
   "id": "8993b4d4-c8ae-408b-ab30-c6cf93238017",
   "metadata": {},
   "outputs": [],
   "source": [
    "# Write a python program to prepare a dictionary  of chars whose values are even\n",
    "# String from the user/keyboard"
   ]
  },
  {
   "cell_type": "code",
   "execution_count": 46,
   "id": "0ce20123-2450-4dbe-861e-c5d67ed9c758",
   "metadata": {},
   "outputs": [
    {
     "name": "stdin",
     "output_type": "stream",
     "text": [
      " dhnausree\n"
     ]
    },
    {
     "name": "stdout",
     "output_type": "stream",
     "text": [
      "{'d': 100, 'h': 104, 'n': 110, 'a': 97, 'u': 117, 's': 115, 'r': 114, 'e': 101}\n"
     ]
    }
   ],
   "source": [
    "dic = {}\n",
    "#{ch:ord(ch)}\n",
    "for ch in input():\n",
    "    dic[ch]=ord(ch)\n",
    "    # if ord(ch)%2 != 0:  \n",
    "print(dic)"
   ]
  },
  {
   "cell_type": "code",
   "execution_count": 43,
   "id": "a4be3cfb-c44a-4b80-816f-3edce65b0762",
   "metadata": {},
   "outputs": [
    {
     "name": "stdin",
     "output_type": "stream",
     "text": [
      " dhanu\n"
     ]
    },
    {
     "name": "stdout",
     "output_type": "stream",
     "text": [
      "{'d': 100, 'h': 104, 'n': 110}\n"
     ]
    }
   ],
   "source": [
    "chars={c:ord(c) for c in input() if ord(c)%2==0}\n",
    "print(chars)"
   ]
  },
  {
   "cell_type": "code",
   "execution_count": 4,
   "id": "18f71392-ece0-471f-9e67-7d5b5945c676",
   "metadata": {},
   "outputs": [
    {
     "name": "stdout",
     "output_type": "stream",
     "text": [
      "{8: 90, 5: 87, 7: 24}\n"
     ]
    }
   ],
   "source": [
    "# Buit in methods in dictionary\n",
    "d2 = {8:90,5:87,7:24}\n",
    "print(d2)"
   ]
  },
  {
   "cell_type": "code",
   "execution_count": 8,
   "id": "e301119a-ee9a-42d4-bcbe-e7edd5a31275",
   "metadata": {},
   "outputs": [
    {
     "data": {
      "text/plain": [
       "{5: 32, 3: 67, 15: 78}"
      ]
     },
     "execution_count": 8,
     "metadata": {},
     "output_type": "execute_result"
    }
   ],
   "source": [
    "# values can allow the duplicates\n",
    "f = {5:78,3:67,15:78,5:32}\n",
    "f"
   ]
  },
  {
   "cell_type": "code",
   "execution_count": null,
   "id": "5cca0ef0-2806-4740-96ff-fcef80d4049f",
   "metadata": {},
   "outputs": [],
   "source": []
  }
 ],
 "metadata": {
  "kernelspec": {
   "display_name": "Python 3 (ipykernel)",
   "language": "python",
   "name": "python3"
  },
  "language_info": {
   "codemirror_mode": {
    "name": "ipython",
    "version": 3
   },
   "file_extension": ".py",
   "mimetype": "text/x-python",
   "name": "python",
   "nbconvert_exporter": "python",
   "pygments_lexer": "ipython3",
   "version": "3.12.7"
  }
 },
 "nbformat": 4,
 "nbformat_minor": 5
}
