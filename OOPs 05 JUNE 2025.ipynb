{
 "cells": [
  {
   "cell_type": "markdown",
   "id": "6ac23b0a-fea9-46c9-b57e-b379f7852356",
   "metadata": {},
   "source": [
    "### OOPS:\n",
    "  - Python programming also support the object oriented programming.\n",
    "  - OOPs stands for Object Oriented Programming System.\n",
    "  - It is mainly used for code reusability.\n",
    "  - In oops we can write the classes, functions,variales...\n",
    "### How to create a class:\n",
    "           - class class_name:\n",
    "             body of class\n",
    "              variables\n",
    "              methods\n",
    "### 1. Class:\n",
    "          - It is a collection of variables and methods.\n",
    "          - It is a blue print of object.\n",
    "### What is the difference between method and function.\n",
    "- funtion:\n",
    "      - It is a collection of statements.\n",
    "- method:\n",
    "      - If a funtion is existed inside of a class is called as method.\n",
    "### How to access the class elements:\n",
    "  - using basic method is .(dot) operator.\n",
    "       - Ex:\n",
    "           - class_name.variable_name\n",
    "           - class_name.method_name"
   ]
  },
  {
   "cell_type": "code",
   "execution_count": 7,
   "id": "279c8ac1-312e-42a8-a28a-37b23e5b13ae",
   "metadata": {},
   "outputs": [
    {
     "name": "stdout",
     "output_type": "stream",
     "text": [
      "10\n",
      "python\n",
      "I am from sample class!....\n"
     ]
    }
   ],
   "source": [
    "# Class declaration:\n",
    "class Sample:\n",
    "    a = 10\n",
    "    b = 'python'\n",
    "    def display():\n",
    "        print('I am from sample class!....')\n",
    "# To acces the class elements\n",
    "print(Sample.a)\n",
    "print(Sample.b)\n",
    "Sample.display()"
   ]
  },
  {
   "cell_type": "markdown",
   "id": "3327360c-6dc4-4adc-8f5f-633c05e326f8",
   "metadata": {},
   "source": [
    "### 2. Object:\n",
    "      - It is a instance of a class.\n",
    "      - Syntax:\n",
    "             - object_name = class_name"
   ]
  },
  {
   "cell_type": "code",
   "execution_count": 9,
   "id": "cf5f6eb0-8084-46f1-a510-e615b6eaa67d",
   "metadata": {},
   "outputs": [
    {
     "data": {
      "text/plain": [
       "-8"
      ]
     },
     "execution_count": 9,
     "metadata": {},
     "output_type": "execute_result"
    }
   ],
   "source": [
    "# To access the class elements through object_name\n",
    "class Arithmetic:\n",
    "    def Addition(n1,n2):\n",
    "        return n1+n2\n",
    "    def Subtraction(n1,n2):\n",
    "        return n1-n2\n",
    "obj1 = Arithmetic # obj1 is object_name\n",
    "obj1.Addition(10,20)\n",
    "obj1.Subtraction(12,20)"
   ]
  },
  {
   "cell_type": "markdown",
   "id": "4f4024bb-1ccb-49e6-9a80-9be3326106f2",
   "metadata": {},
   "source": [
    "### Constructor:\n",
    "      - It is special method that is called when object is created\n",
    "      - 2 types of\n",
    "       1. default constructor\n",
    "       2. Parameterized constuctor\n",
    "       Syntax:\n",
    "        "
   ]
  },
  {
   "cell_type": "code",
   "execution_count": 12,
   "id": "0b869da0-bcb0-4f8a-b269-32ad214a9283",
   "metadata": {},
   "outputs": [
    {
     "name": "stdout",
     "output_type": "stream",
     "text": [
      "python\n"
     ]
    }
   ],
   "source": [
    "# Default constuctor:\n",
    "class Default:\n",
    "    def __init__(self):\n",
    "        self.name='python'\n",
    "    def Display(self):\n",
    "        print(self.name)\n",
    "obj2 = Default()\n",
    "obj2.Display()"
   ]
  },
  {
   "cell_type": "code",
   "execution_count": 15,
   "id": "64cbf71a-2efb-4570-ad0f-4723e9400145",
   "metadata": {},
   "outputs": [
    {
     "name": "stdout",
     "output_type": "stream",
     "text": [
      "10\n",
      "20\n"
     ]
    }
   ],
   "source": [
    "# Parameterized constuctor\n",
    "class Example:\n",
    "    def __init__(self,a,b):\n",
    "        self.n1=a\n",
    "        self.n2=b\n",
    "    def printing(self):\n",
    "        print(self.n1)\n",
    "        print(self.n2)\n",
    "obj3=Example(10,20)\n",
    "obj3.printing()"
   ]
  },
  {
   "cell_type": "markdown",
   "id": "8a89b1fc-4778-4d14-bc7c-84030f8811fa",
   "metadata": {},
   "source": [
    "#### Inheritance:\n",
    "    - To acquring the properties of parent class to child class.\n",
    "    - Types of inheritance\n",
    "       - 1. Single-Level Inheritance\n",
    "         2. Multi-Level Inheritance\n",
    "         3. Multiple Inheritance\n",
    "         4. Hirarichel Inheritance\n",
    "         5. Hybrid Inheritance"
   ]
  },
  {
   "cell_type": "code",
   "execution_count": 20,
   "id": "531c2845-a67b-4aa6-8db7-8efab947c43f",
   "metadata": {},
   "outputs": [
    {
     "name": "stdout",
     "output_type": "stream",
     "text": [
      "I am from child class.\n",
      "I am from parent class.\n"
     ]
    }
   ],
   "source": [
    "# 1. Single-Level Inheritance\n",
    "# Only one parent class and one child class\n",
    "class Parent:\n",
    "    def pdisplay():\n",
    "        print('I am from parent class.')\n",
    "class Child(Parent):\n",
    "    def cdisplay():\n",
    "        print('I am from child class.')\n",
    "obj = Child\n",
    "obj.cdisplay()\n",
    "obj.pdisplay()"
   ]
  },
  {
   "cell_type": "markdown",
   "id": "b0f379c0-3a46-446d-b582-b8ecb5fd676c",
   "metadata": {},
   "source": [
    "#### Multi-Level Inheritance:\n",
    "      - Here more than one parent class and more than one child class."
   ]
  },
  {
   "cell_type": "code",
   "execution_count": 21,
   "id": "fa2bed68-c97f-4b99-bddb-c110e6bfe652",
   "metadata": {},
   "outputs": [
    {
     "name": "stdout",
     "output_type": "stream",
     "text": [
      "I am from Grand parent class.\n",
      "I am from Parent class.\n",
      "I am from Child class.\n"
     ]
    }
   ],
   "source": [
    "# multi-level Inheritance--\n",
    "class Grandparent:\n",
    "    def gdisplay():\n",
    "        print('I am from Grand parent class.')\n",
    "class Parent(Grandparent):\n",
    "    def pdisplay():\n",
    "        print('I am from Parent class.')\n",
    "class Child(Parent):\n",
    "    def cdisplay():\n",
    "        print('I am from Child class.')\n",
    "obj = Child\n",
    "obj.gdisplay()\n",
    "obj.pdisplay()\n",
    "obj.cdisplay()"
   ]
  },
  {
   "cell_type": "markdown",
   "id": "66311539-215c-44df-bd30-a7a86e85cec4",
   "metadata": {},
   "source": [
    "#### Multiple Inheriance:\n",
    "      - one or more parent class and one child class."
   ]
  },
  {
   "cell_type": "code",
   "execution_count": 25,
   "id": "8f823a30-b844-481d-917c-2cbb39db2d05",
   "metadata": {},
   "outputs": [
    {
     "name": "stdout",
     "output_type": "stream",
     "text": [
      "I am from Mother class.\n",
      "I am from Father class.\n",
      "I am from Child class.\n"
     ]
    }
   ],
   "source": [
    "# multiple inheritance\n",
    "class Mother:\n",
    "    def mdisplay():\n",
    "        print('I am from Mother class.')\n",
    "class Father:\n",
    "    def fdisplay():\n",
    "        print('I am from Father class.')\n",
    "class Child(Mother,Father):\n",
    "    def cdisplay():\n",
    "        print('I am from Child class.')\n",
    "obj = Child\n",
    "obj.mdisplay()\n",
    "obj.fdisplay()\n",
    "obj.cdisplay()"
   ]
  },
  {
   "cell_type": "markdown",
   "id": "681dff7b-8f56-41a8-a4ec-b91eeba498b8",
   "metadata": {},
   "source": [
    "#### Hirarichel Inheritance:\n",
    "      - Here one parent class and more than one child class."
   ]
  },
  {
   "cell_type": "code",
   "execution_count": 32,
   "id": "47788bf7-fe4a-44e7-902e-b19db6442a6c",
   "metadata": {},
   "outputs": [
    {
     "name": "stdout",
     "output_type": "stream",
     "text": [
      "I am from  Parent class.\n",
      "I am from Child 2 class.\n",
      "I am from Child 1 class.\n"
     ]
    }
   ],
   "source": [
    "class Parent:\n",
    "    def pdisplay():\n",
    "        print('I am from  Parent class.')\n",
    "class Child1(Parent):\n",
    "    def c1display():\n",
    "        print('I am from Child 1 class.')\n",
    "class Child2(Parent):\n",
    "    def c2display():\n",
    "        print('I am from Child 2 class.')\n",
    "obj= Child2\n",
    "obj.pdisplay()\n",
    "obj.c2display()\n",
    "obj1 = Child1\n",
    "obj1.c1display()"
   ]
  },
  {
   "cell_type": "markdown",
   "id": "0f755035-db9a-4f00-b6e1-5805bc6034e7",
   "metadata": {},
   "source": [
    "#### Hybrid Inheritance:\n",
    "     - Combination of multi-Level and Hirarichel inheritance "
   ]
  },
  {
   "cell_type": "code",
   "execution_count": 39,
   "id": "f5d1f1b1-ca59-4076-8fd2-04accf6ad123",
   "metadata": {},
   "outputs": [
    {
     "name": "stdout",
     "output_type": "stream",
     "text": [
      "I am from School class.\n",
      "I am from Faculty class.\n"
     ]
    }
   ],
   "source": [
    "# hybrid inheritance\n",
    "class School:\n",
    "    def sdisplay():\n",
    "        print('I am from School class.')\n",
    "class Stu1(School):\n",
    "    def s1display():\n",
    "        print('I am from Student1 class.')\n",
    "class Stu2:\n",
    "    def s2display(School):\n",
    "        print('I am from Student2 class.')\n",
    "class Faculty(Stu1,Stu2):\n",
    "    def fdisplay():\n",
    "        print('I am from Faculty class.')\n",
    "obj = Faculty\n",
    "obj.sdisplay()\n",
    "obj.fdisplay()"
   ]
  },
  {
   "cell_type": "markdown",
   "id": "7dcd926b-f390-4732-bf10-72a7b35d4c82",
   "metadata": {},
   "source": [
    "#### Polymarphism:\n",
    "     - Polymarphism means to create a many forms\n",
    "       - Ex:\n",
    "           '+' -> symbol\n",
    "           -> to find addition of two numerical values.\n",
    "           -> To join two strings.\n",
    "           -> same method but implementing different ways"
   ]
  },
  {
   "cell_type": "code",
   "execution_count": 44,
   "id": "69b13110-6586-49b5-a3a1-2ce59789905e",
   "metadata": {},
   "outputs": [
    {
     "name": "stdout",
     "output_type": "stream",
     "text": [
      "abcpython\n",
      "44\n"
     ]
    }
   ],
   "source": [
    "# Operator\n",
    "s1 = 'abc'\n",
    "s2 = 'python'\n",
    "print(s1+s2)\n",
    "print(10+34)"
   ]
  },
  {
   "cell_type": "code",
   "execution_count": 43,
   "id": "77cbb96b-2922-4d2b-b570-5f23bc0c39d4",
   "metadata": {},
   "outputs": [
    {
     "name": "stdout",
     "output_type": "stream",
     "text": [
      "6\n",
      "3\n"
     ]
    }
   ],
   "source": [
    "# method\n",
    "# len()\n",
    "print(len('python'))\n",
    "print(len([10,20,30]))"
   ]
  },
  {
   "cell_type": "code",
   "execution_count": null,
   "id": "53a89776-b2b5-4745-b609-5e70d4cc9867",
   "metadata": {},
   "outputs": [],
   "source": []
  }
 ],
 "metadata": {
  "kernelspec": {
   "display_name": "Python 3 (ipykernel)",
   "language": "python",
   "name": "python3"
  },
  "language_info": {
   "codemirror_mode": {
    "name": "ipython",
    "version": 3
   },
   "file_extension": ".py",
   "mimetype": "text/x-python",
   "name": "python",
   "nbconvert_exporter": "python",
   "pygments_lexer": "ipython3",
   "version": "3.12.7"
  }
 },
 "nbformat": 4,
 "nbformat_minor": 5
}
