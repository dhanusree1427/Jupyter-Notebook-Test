{
 "cells": [
  {
   "cell_type": "code",
   "execution_count": 3,
   "id": "700cd017-25e8-4705-9ff0-11a93e376b40",
   "metadata": {},
   "outputs": [
    {
     "name": "stdout",
     "output_type": "stream",
     "text": [
      "['__class__', '__class_getitem__', '__contains__', '__delattr__', '__delitem__', '__dir__', '__doc__', '__eq__', '__format__', '__ge__', '__getattribute__', '__getitem__', '__getstate__', '__gt__', '__hash__', '__init__', '__init_subclass__', '__ior__', '__iter__', '__le__', '__len__', '__lt__', '__ne__', '__new__', '__or__', '__reduce__', '__reduce_ex__', '__repr__', '__reversed__', '__ror__', '__setattr__', '__setitem__', '__sizeof__', '__str__', '__subclasshook__', 'clear', 'copy', 'fromkeys', 'get', 'items', 'keys', 'pop', 'popitem', 'setdefault', 'update', 'values'] "
     ]
    }
   ],
   "source": [
    "# how to find the dictionary methods in python\n",
    "print(dir(dict),end=' ')"
   ]
  },
  {
   "cell_type": "code",
   "execution_count": 5,
   "id": "ebdb5210-32a2-4711-a8da-c76153eeaee8",
   "metadata": {},
   "outputs": [
    {
     "name": "stdout",
     "output_type": "stream",
     "text": [
      "{7: 8, 8: 89, 4: 67, 3: 90, 'python': 'internship'} <class 'dict'>\n"
     ]
    }
   ],
   "source": [
    "d1 = {7:8,8:89,4:67,3:90,\"python\":\"internship\"}\n",
    "print(d1,type(d1))"
   ]
  },
  {
   "cell_type": "code",
   "execution_count": 6,
   "id": "f39cfb79-f8d2-4a54-96e8-940194af5d59",
   "metadata": {},
   "outputs": [
    {
     "name": "stdout",
     "output_type": "stream",
     "text": [
      "90\n",
      "internship\n"
     ]
    }
   ],
   "source": [
    "# get() # It prints the value in python\n",
    "print(d1.get(3))\n",
    "print(d1.get(\"python\"))"
   ]
  },
  {
   "cell_type": "code",
   "execution_count": 9,
   "id": "1a658b66-3542-491c-ab33-bc3c840bef4d",
   "metadata": {},
   "outputs": [
    {
     "name": "stdout",
     "output_type": "stream",
     "text": [
      "dict_keys([7, 8, 4, 3, 'python'])\n",
      "dict_values([8, 89, 67, 90, 'internship'])\n",
      "dict_items([(7, 8), (8, 89), (4, 67), (3, 90), ('python', 'internship')])\n"
     ]
    }
   ],
   "source": [
    "# keys(), values(), items()\n",
    "print(d1.keys())\n",
    "print(d1.values())\n",
    "print(d1.items())"
   ]
  },
  {
   "cell_type": "code",
   "execution_count": 10,
   "id": "ee2ca215-aefc-49ec-88e3-50a177f42220",
   "metadata": {},
   "outputs": [
    {
     "name": "stdout",
     "output_type": "stream",
     "text": [
      "{7: 8, 8: 89, 4: 67, 3: 90, 'python': 'internship', 'age': 56}\n"
     ]
    }
   ],
   "source": [
    "# adding new key and vlue to the dictionary\n",
    "d1[\"age\"]=56\n",
    "print(d1)"
   ]
  },
  {
   "cell_type": "code",
   "execution_count": 12,
   "id": "9329eb5a-0592-454d-856c-457900654798",
   "metadata": {},
   "outputs": [
    {
     "name": "stdout",
     "output_type": "stream",
     "text": [
      "{7: 8, 8: 6.8, 4: 67, 3: 90, 'python': 'internship', 'age': 56, 67: 45.8, 9: 5.7}\n"
     ]
    }
   ],
   "source": [
    "d1[67]=45.8\n",
    "d1[8]=6.8\n",
    "d1[9]=5.7\n",
    "print(d1)"
   ]
  },
  {
   "cell_type": "code",
   "execution_count": 13,
   "id": "50f5e4fc-d569-4e37-b0a2-f6b7a25a984a",
   "metadata": {},
   "outputs": [
    {
     "data": {
      "text/plain": [
       "56"
      ]
     },
     "execution_count": 13,
     "metadata": {},
     "output_type": "execute_result"
    }
   ],
   "source": [
    "# pop()\n",
    "d1.pop(\"age\")"
   ]
  },
  {
   "cell_type": "code",
   "execution_count": 14,
   "id": "bd8c7568-0e2a-42e8-9e81-d7449ad9b64a",
   "metadata": {},
   "outputs": [
    {
     "name": "stdout",
     "output_type": "stream",
     "text": [
      "{7: 8, 8: 6.8, 4: 67, 3: 90, 'python': 'internship', 67: 45.8, 9: 5.7}\n"
     ]
    }
   ],
   "source": [
    "print(d1)"
   ]
  },
  {
   "cell_type": "code",
   "execution_count": 17,
   "id": "22aef1ad-0e5c-4cc3-9408-a58c1643db45",
   "metadata": {},
   "outputs": [
    {
     "data": {
      "text/plain": [
       "(67, 45.8)"
      ]
     },
     "execution_count": 17,
     "metadata": {},
     "output_type": "execute_result"
    }
   ],
   "source": [
    "# popitem() #It deletes last key and value in the dictionary\n",
    "d1.popitem()"
   ]
  },
  {
   "cell_type": "code",
   "execution_count": 18,
   "id": "a92f60d7-9592-4249-9db4-86a251617a95",
   "metadata": {},
   "outputs": [
    {
     "name": "stdout",
     "output_type": "stream",
     "text": [
      "{7: 8, 8: 6.8, 4: 67, 3: 90, 'python': 'internship'}\n"
     ]
    }
   ],
   "source": [
    "print(d1)"
   ]
  },
  {
   "cell_type": "code",
   "execution_count": 22,
   "id": "b71de4a6-525b-4767-ac93-58c1cc96ed46",
   "metadata": {},
   "outputs": [
    {
     "name": "stdout",
     "output_type": "stream",
     "text": [
      "{1: 2, 4: 8, 7: 89, 8: 90}\n",
      "{1: 2, 4: 8, 7: 89, 8: 90}\n"
     ]
    }
   ],
   "source": [
    "k = {1:2,4:8,7:89,8:90}\n",
    "j = k.copy()\n",
    "print(j)\n",
    "print(k)"
   ]
  },
  {
   "cell_type": "code",
   "execution_count": 23,
   "id": "b70fe746-58c6-4766-a709-6a0b054ac862",
   "metadata": {},
   "outputs": [
    {
     "name": "stdout",
     "output_type": "stream",
     "text": [
      "{7: 8, 8: 6.8, 4: 67, 3: 90, 'python': 'internship'}\n"
     ]
    }
   ],
   "source": [
    "# update()\n",
    "print(d1)"
   ]
  },
  {
   "cell_type": "code",
   "execution_count": 25,
   "id": "6f4a766f-8544-4e50-8352-dffac4986f48",
   "metadata": {},
   "outputs": [
    {
     "data": {
      "text/plain": [
       "{7: 8, 8: 6.8, 4: 67, 3: 190, 'python': 'internship'}"
      ]
     },
     "execution_count": 25,
     "metadata": {},
     "output_type": "execute_result"
    }
   ],
   "source": [
    "d1.update({3:190})\n",
    "d1"
   ]
  },
  {
   "cell_type": "code",
   "execution_count": 26,
   "id": "68ef2d89-ee93-471f-bb88-aa381aa1f56f",
   "metadata": {},
   "outputs": [
    {
     "data": {
      "text/plain": [
       "{7: 8, 8: 6.8, 4: 67, 3: 190, 'python': 'APSSDC'}"
      ]
     },
     "execution_count": 26,
     "metadata": {},
     "output_type": "execute_result"
    }
   ],
   "source": [
    "d1.update({\"python\": \"APSSDC\"})\n",
    "d1"
   ]
  },
  {
   "cell_type": "code",
   "execution_count": 27,
   "id": "8e3aafbd-c773-427f-bfcc-b074494ae8f4",
   "metadata": {},
   "outputs": [],
   "source": [
    "# clear()\n",
    "d1.clear()"
   ]
  },
  {
   "cell_type": "code",
   "execution_count": 28,
   "id": "f6e1b0cc-5b64-41cf-9b02-093a8758ac8f",
   "metadata": {},
   "outputs": [
    {
     "data": {
      "text/plain": [
       "{}"
      ]
     },
     "execution_count": 28,
     "metadata": {},
     "output_type": "execute_result"
    }
   ],
   "source": [
    "d1"
   ]
  },
  {
   "cell_type": "code",
   "execution_count": 29,
   "id": "38bb806b-ff22-412f-ace7-a71f6267af70",
   "metadata": {},
   "outputs": [
    {
     "name": "stdout",
     "output_type": "stream",
     "text": [
      "<class 'type'>\n",
      "{7: 8, 8: 89, 4: 67, 3: 90, 'python': 'internship'}\n",
      "Dic Methods\n",
      "90\n",
      "dict_keys([7, 8, 4, 3, 'python'])\n",
      "dict_values([8, 89, 67, 90, 'internship'])\n",
      "dict_items([(7, 8), (8, 89), (4, 67), (3, 90), ('python', 'internship')])\n",
      "Adding Ne key\n",
      "{7: 8, 8: 6.8, 4: 67, 3: 90, 'python': 'internship', 'age': 56, 67: 45.8, 9: 5.7}\n",
      "Pop method\n",
      "56\n",
      "{7: 8, 8: 6.8, 4: 67, 3: 90, 'python': 'internship', 67: 45.8, 9: 5.7}\n",
      "Popitem Method\n",
      "{7: 8, 8: 6.8, 4: 67, 3: 90, 'python': 'internship', 67: 45.8}\n",
      "Copy Method\n",
      "{1: 2, 4: 8, 7: 89, 8: 90}\n",
      "{1: 2, 4: 8, 7: 89, 8: 90}\n",
      "Update Method\n",
      "{7: 8, 8: 6.8, 4: 67, 3: 190, 'python': 'internship', 67: 45.8}\n"
     ]
    }
   ],
   "source": [
    "d1 = {7:8,8:89,4:67,3:90,\"python\":\"internship\"}\n",
    "print(type(dict))\n",
    "print(d1)\n",
    "print(\"Dic Methods\")\n",
    "print(d1.get(3))\n",
    "print(d1.keys())\n",
    "print(d1.values())\n",
    "print(d1.items())\n",
    "print(\"Adding Ne key\")\n",
    "d1[\"age\"]=56\n",
    "d1[67]=45.8\n",
    "d1[8]=6.8\n",
    "d1[9]=5.7\n",
    "print(d1)\n",
    "print(\"Pop method\")\n",
    "print(d1.pop(\"age\"))\n",
    "print(d1)\n",
    "print(\"Popitem Method\")\n",
    "d1.popitem()\n",
    "print(d1)\n",
    "print(\"Copy Method\")\n",
    "k = {1:2,4:8,7:89,8:90}\n",
    "j = k.copy()\n",
    "print(j)\n",
    "print(k)\n",
    "print(\"Update Method\")\n",
    "d1.update({3:190})\n",
    "print(d1)\n"
   ]
  },
  {
   "cell_type": "code",
   "execution_count": 30,
   "id": "9f2f573a-6984-4131-ab2a-2ee2a21f608b",
   "metadata": {},
   "outputs": [],
   "source": [
    "d1.clear()"
   ]
  },
  {
   "cell_type": "code",
   "execution_count": 31,
   "id": "2cc1d010-874c-48a1-ad57-1013cb5e5f8c",
   "metadata": {},
   "outputs": [
    {
     "data": {
      "text/plain": [
       "{}"
      ]
     },
     "execution_count": 31,
     "metadata": {},
     "output_type": "execute_result"
    }
   ],
   "source": [
    "d1"
   ]
  },
  {
   "cell_type": "code",
   "execution_count": 32,
   "id": "f53fc680-52eb-4d75-98af-9e1d0ad95814",
   "metadata": {},
   "outputs": [
    {
     "name": "stdout",
     "output_type": "stream",
     "text": [
      "7 8 4 3 python 67 "
     ]
    }
   ],
   "source": [
    "d = {7: 8, 8: 6.8, 4: 67, 3: 190, 'python': 'internship', 67: 45.8}\n",
    "for i in d:\n",
    "    print(i,end=' ')"
   ]
  },
  {
   "cell_type": "code",
   "execution_count": 33,
   "id": "c81049ef-cea5-4d7c-8875-4d9506330cc4",
   "metadata": {},
   "outputs": [
    {
     "name": "stdout",
     "output_type": "stream",
     "text": [
      "8 6.8 67 190 internship 45.8 "
     ]
    }
   ],
   "source": [
    "d = {7: 8, 8: 6.8, 4: 67, 3: 190, 'python': 'internship', 67: 45.8}\n",
    "for i in d.values():\n",
    "    print(i,end=' ')"
   ]
  },
  {
   "cell_type": "code",
   "execution_count": 34,
   "id": "771be352-c076-4998-9555-48bfa9ed55b7",
   "metadata": {},
   "outputs": [
    {
     "name": "stdout",
     "output_type": "stream",
     "text": [
      "7 8 4 3 python 67 "
     ]
    }
   ],
   "source": [
    "d = {7: 8, 8: 6.8, 4: 67, 3: 190, 'python': 'internship', 67: 45.8}\n",
    "for i in d.keys():\n",
    "    print(i,end=' ')"
   ]
  },
  {
   "cell_type": "code",
   "execution_count": 37,
   "id": "2a9ff854-4300-43d4-a426-6cb865cd8779",
   "metadata": {},
   "outputs": [
    {
     "name": "stdout",
     "output_type": "stream",
     "text": [
      "8 4 "
     ]
    }
   ],
   "source": [
    "d = {7: 8, 8: 6.8, 4: 67, 3: 190, 67: 45.8}\n",
    "for i in d.keys():\n",
    "    if(i%2==0):\n",
    "        print(i,end=' ')"
   ]
  },
  {
   "cell_type": "code",
   "execution_count": 40,
   "id": "19a52a12-9b59-4545-93bc-51968168b712",
   "metadata": {},
   "outputs": [
    {
     "name": "stdout",
     "output_type": "stream",
     "text": [
      "{1: 1, 2: 4, 3: 9, 4: 16, 5: 25}\n"
     ]
    }
   ],
   "source": [
    "# i/p: [1,2,3,4,5]\n",
    "# o/p: [1:1,2:4,3:9,4:16,5:25]\n",
    "li = [1,2,3,4,5]\n",
    "d = {}\n",
    "for i in li:\n",
    "    d[i]=i**2\n",
    "print(d)"
   ]
  },
  {
   "cell_type": "markdown",
   "id": "37d9715f-1897-484d-88bc-33582921f52c",
   "metadata": {},
   "source": [
    "# Task - 01\n",
    "# i/p: 10\n",
    "# 0/p: {1:2,2:9,3:28,..........,10:1001}\n",
    "\n",
    "# i/p: [4,5,6,8,9,2,7,1]\n",
    "# o/p: {25,81,49,1}"
   ]
  },
  {
   "cell_type": "markdown",
   "id": "f26d9e69-b39f-4c8d-8e4a-68a4f53f8d3e",
   "metadata": {},
   "source": [
    "# SET\n",
    "  -  a set is a well defined collectionof objects\n",
    "  -  It avoids the duplication of values/data\n",
    "  -  It is mutable in nature but there is no inex\n",
    "  -  set is represented by {}\n",
    "  -  set() is the predefined function"
   ]
  },
  {
   "cell_type": "markdown",
   "id": "eb15086a-4634-4e43-9ebb-d95c4ca5574a",
   "metadata": {},
   "source": [
    "# Note\n",
    " - String is immutable\n",
    " - We can change the original set"
   ]
  },
  {
   "cell_type": "code",
   "execution_count": 41,
   "id": "4a5640d8-b715-4665-9aa0-a5e2688f3899",
   "metadata": {},
   "outputs": [
    {
     "name": "stdout",
     "output_type": "stream",
     "text": [
      "[7, 6, 8, 5, 8, 9, 0, 67, 9, 6]\n",
      "<class 'list'>\n",
      "{0, 67, 5, 6, 7, 8, 9}\n"
     ]
    }
   ],
   "source": [
    "A = [7,6,8,5,8,9,0,67,9,6]\n",
    "print(A)\n",
    "print(type(A))\n",
    "print(set(A))"
   ]
  },
  {
   "cell_type": "code",
   "execution_count": 46,
   "id": "58d562ee-7550-4b4a-9576-5cf128495301",
   "metadata": {},
   "outputs": [
    {
     "name": "stdout",
     "output_type": "stream",
     "text": [
      "{}\n"
     ]
    }
   ],
   "source": [
    "d = {}\n",
    "for i in d:\n",
    "    d[i]=i**2+1\n",
    "print(d)"
   ]
  },
  {
   "cell_type": "code",
   "execution_count": 18,
   "id": "8fcf475f-0c56-4fb8-8f89-ff28a5aa716e",
   "metadata": {},
   "outputs": [
    {
     "name": "stdout",
     "output_type": "stream",
     "text": [
      "{81, 25, 1, 49}\n"
     ]
    }
   ],
   "source": [
    "li = [4, 5, 6, 8, 9, 2, 7, 1]\n",
    "dict = {}\n",
    "for i in li:\n",
    "    if i == 1 or i == 7 or i == 9 or i == 5:\n",
    "        dict[i] = i ** 2\n",
    "sq = set(dict.values())\n",
    "print(sq)"
   ]
  },
  {
   "cell_type": "code",
   "execution_count": 2,
   "id": "52963c3a-555f-4c98-b353-fb9c6365dc56",
   "metadata": {},
   "outputs": [
    {
     "name": "stdout",
     "output_type": "stream",
     "text": [
      "{1: 2, 2: 9, 3: 28, 4: 65, 5: 126, 6: 217, 7: 344, 8: 513, 9: 730, 10: 1001}\n"
     ]
    }
   ],
   "source": [
    "n = 10\n",
    "dict = {}\n",
    "for i in range(1, n+1):\n",
    "    dict[i] = i**3 + 1\n",
    "print(dict)\n"
   ]
  },
  {
   "cell_type": "code",
   "execution_count": null,
   "id": "b1bd0461-8a44-4c79-b183-6bb42881a965",
   "metadata": {},
   "outputs": [],
   "source": []
  }
 ],
 "metadata": {
  "kernelspec": {
   "display_name": "Python 3 (ipykernel)",
   "language": "python",
   "name": "python3"
  },
  "language_info": {
   "codemirror_mode": {
    "name": "ipython",
    "version": 3
   },
   "file_extension": ".py",
   "mimetype": "text/x-python",
   "name": "python",
   "nbconvert_exporter": "python",
   "pygments_lexer": "ipython3",
   "version": "3.12.7"
  }
 },
 "nbformat": 4,
 "nbformat_minor": 5
}
