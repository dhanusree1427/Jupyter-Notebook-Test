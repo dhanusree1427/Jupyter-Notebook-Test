{
 "cells": [
  {
   "cell_type": "code",
   "execution_count": null,
   "id": "bf8a2dba-390a-4c7c-8768-b299760219b4",
   "metadata": {},
   "outputs": [],
   "source": [
    "Tuple\n",
    "\n",
    "A tuple in python is an ordered, immutable collection of items.\n",
    "Tuple is immutable (i.e we can't the values once we assigned)\n",
    "we can store heterogeneous data\n",
    "index starts with '0'\n",
    "It can allow the duplicates\n",
    "Repersented by (), values can seperated by ,"
   ]
  },
  {
   "cell_type": "code",
   "execution_count": 1,
   "id": "a3d9ac88-d240-46ce-971d-c16aac2934d9",
   "metadata": {},
   "outputs": [
    {
     "name": "stdout",
     "output_type": "stream",
     "text": [
      "['__add__', '__class__', '__class_getitem__', '__contains__', '__delattr__', '__dir__', '__doc__', '__eq__', '__format__', '__ge__', '__getattribute__', '__getitem__', '__getnewargs__', '__getstate__', '__gt__', '__hash__', '__init__', '__init_subclass__', '__iter__', '__le__', '__len__', '__lt__', '__mul__', '__ne__', '__new__', '__reduce__', '__reduce_ex__', '__repr__', '__rmul__', '__setattr__', '__sizeof__', '__str__', '__subclasshook__', 'count', 'index'] "
     ]
    }
   ],
   "source": [
    "print(dir(tuple),end=' ')"
   ]
  },
  {
   "cell_type": "code",
   "execution_count": 2,
   "id": "660a5c91-a806-4be5-b6d2-abdd003833c7",
   "metadata": {},
   "outputs": [
    {
     "name": "stdout",
     "output_type": "stream",
     "text": [
      "2\n",
      "1\n"
     ]
    }
   ],
   "source": [
    "#count()\n",
    "t2 = (56,78,12,78,90,56,78,23,23,2,3,44)\n",
    "print(t2.count(23))\n",
    "print(t2.count(44))"
   ]
  },
  {
   "cell_type": "code",
   "execution_count": 3,
   "id": "15b0bdbc-b944-432b-a89e-84b18bf74769",
   "metadata": {},
   "outputs": [
    {
     "name": "stdout",
     "output_type": "stream",
     "text": [
      "0\n",
      "1\n"
     ]
    }
   ],
   "source": [
    "#index()\n",
    "print(t2.index(56))\n",
    "print(t2.index(78))"
   ]
  },
  {
   "cell_type": "code",
   "execution_count": 4,
   "id": "c50b5add-4b54-4596-b5bd-361907f80724",
   "metadata": {},
   "outputs": [
    {
     "name": "stdout",
     "output_type": "stream",
     "text": [
      "56 78 12 78 90 56 78 23 23 2 3 44 "
     ]
    }
   ],
   "source": [
    "t2 = (56,78,12,78,90,56,78,23,23,2,3,44)\n",
    "for i in t2:\n",
    "    print(i,end=' ' )"
   ]
  },
  {
   "cell_type": "code",
   "execution_count": 5,
   "id": "d611c837-50a8-443b-a394-b2436f155ea7",
   "metadata": {},
   "outputs": [
    {
     "name": "stdout",
     "output_type": "stream",
     "text": [
      "78 12 78 90 78 3 "
     ]
    }
   ],
   "source": [
    "t2 = (56,78,12,78,90,56,78,23,23,2,3,44)\n",
    "for i in t2:\n",
    "    if(i%3==0):\n",
    "        print(i,end=' ')"
   ]
  },
  {
   "cell_type": "markdown",
   "id": "ddc7c2c4-3154-4f3a-a024-17233885a3ab",
   "metadata": {},
   "source": [
    "Packing\n",
    " - packing means grouping muiltipe values together into a single variable, typically as a tule(or list).\n",
    " - you are \"packing\" three values into one tuple named person.\n",
    " - Note: parentheses are optional during packing -- Python treatsthe values as a tupleautomatically."
   ]
  },
  {
   "cell_type": "code",
   "execution_count": 7,
   "id": "3ebec4cd-f671-4daf-bbff-24835ab7cda8",
   "metadata": {},
   "outputs": [
    {
     "name": "stdout",
     "output_type": "stream",
     "text": [
      "('Alice', 30, 'Engineer')\n"
     ]
    }
   ],
   "source": [
    "# Packing values into a tuple \n",
    "person = \"Alice\", 30, \"Engineer\"\n",
    "print(person)"
   ]
  },
  {
   "cell_type": "code",
   "execution_count": null,
   "id": "06c99235-e5a4-4969-831c-bf3f0d394358",
   "metadata": {},
   "outputs": [],
   "source": [
    "# Task\n",
    "# Print unique values in list\n",
    "#i/p: [12,45,67,77,88,99,23,56,78,12,45,67,78]\n",
    "# o/p: [77,88,23,56]"
   ]
  },
  {
   "cell_type": "code",
   "execution_count": null,
   "id": "f1cffb10-e7db-4028-8d1d-3f3680add64e",
   "metadata": {},
   "outputs": [],
   "source": []
  }
 ],
 "metadata": {
  "kernelspec": {
   "display_name": "Python 3 (ipykernel)",
   "language": "python",
   "name": "python3"
  },
  "language_info": {
   "codemirror_mode": {
    "name": "ipython",
    "version": 3
   },
   "file_extension": ".py",
   "mimetype": "text/x-python",
   "name": "python",
   "nbconvert_exporter": "python",
   "pygments_lexer": "ipython3",
   "version": "3.12.7"
  }
 },
 "nbformat": 4,
 "nbformat_minor": 5
}
