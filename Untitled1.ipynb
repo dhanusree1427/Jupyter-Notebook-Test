{
 "cells": [
  {
   "cell_type": "code",
   "execution_count": 1,
   "id": "4c40dee7-8396-4ea8-bcdd-5ed4cdeb4192",
   "metadata": {},
   "outputs": [
    {
     "ename": "ModuleNotFoundError",
     "evalue": "No module named 'phonenumbers'",
     "output_type": "error",
     "traceback": [
      "\u001b[1;31m---------------------------------------------------------------------------\u001b[0m",
      "\u001b[1;31mModuleNotFoundError\u001b[0m                       Traceback (most recent call last)",
      "Cell \u001b[1;32mIn[1], line 1\u001b[0m\n\u001b[1;32m----> 1\u001b[0m \u001b[38;5;28;01mimport\u001b[39;00m \u001b[38;5;21;01mphonenumbers\u001b[39;00m\n\u001b[0;32m      2\u001b[0m \u001b[38;5;28;01mfrom\u001b[39;00m \u001b[38;5;21;01mphonenumbers\u001b[39;00m \u001b[38;5;28;01mimport\u001b[39;00m geocoder\n\u001b[0;32m      3\u001b[0m phone_number1 \u001b[38;5;241m=\u001b[39m phonenumbers\u001b[38;5;241m.\u001b[39mparse(\u001b[38;5;124m\"\u001b[39m\u001b[38;5;124m+919959012196\u001b[39m\u001b[38;5;124m\"\u001b[39m)\n",
      "\u001b[1;31mModuleNotFoundError\u001b[0m: No module named 'phonenumbers'"
     ]
    }
   ],
   "source": [
    "import phonenumbers\n",
    "from phonenumbers import geocoder\n",
    "phone_number1 = phonenumbers.parse(\"+919959012196\")\n",
    "phone_number2 = phonenumbers.parse(\"+919989449480\")\n",
    "print(\"\\nPhone Numbers Location\\n\")\n",
    "print(geocoder.description_for_number(phone_number1,\"en\"));\n",
    "print(geocoder.description_for_number(phone_number2,\"en\"));"
   ]
  },
  {
   "cell_type": "code",
   "execution_count": null,
   "id": "213dd4bc-9992-4feb-bab6-2ab5a9580b89",
   "metadata": {},
   "outputs": [],
   "source": []
  }
 ],
 "metadata": {
  "kernelspec": {
   "display_name": "Python 3 (ipykernel)",
   "language": "python",
   "name": "python3"
  },
  "language_info": {
   "codemirror_mode": {
    "name": "ipython",
    "version": 3
   },
   "file_extension": ".py",
   "mimetype": "text/x-python",
   "name": "python",
   "nbconvert_exporter": "python",
   "pygments_lexer": "ipython3",
   "version": "3.12.7"
  }
 },
 "nbformat": 4,
 "nbformat_minor": 5
}
