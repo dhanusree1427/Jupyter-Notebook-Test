{
 "cells": [
  {
   "cell_type": "markdown",
   "id": "3cd22127-c028-4406-91c6-dd05bdf3a075",
   "metadata": {},
   "source": [
    "# What is a data structure\n",
    "   - A way of oganizing the data is called DS\n",
    "   - We can store multiple values in a single variable\n",
    "\n",
    "  Types os DS\n",
    "   - list\n",
    "   - tuple\n",
    "   - dict\n",
    "   - set\n"
   ]
  },
  {
   "cell_type": "markdown",
   "id": "c65af8c8-49bf-4bc1-960f-cd77b701fb0c",
   "metadata": {},
   "source": [
    "# List\n",
    "  - It is used to store multile itemsin a single variable\n",
    "  - List is mutable(i.e We can change the values)\n",
    "  - It can allow the duplicates\n",
    "  - List index starts with '0'\n",
    "  - we can store any type of data\n",
    "  - Repersented by [], values can be seperated by ,"
   ]
  },
  {
   "cell_type": "code",
   "execution_count": 1,
   "id": "ece112a9-ccc9-4bfe-a92e-3d1e928bf6ab",
   "metadata": {},
   "outputs": [
    {
     "name": "stdout",
     "output_type": "stream",
     "text": [
      "[]\n",
      "<class 'list'>\n"
     ]
    }
   ],
   "source": [
    "#how to create empty list\n",
    "li = []\n",
    "print(li)\n",
    "print(type(li))"
   ]
  },
  {
   "cell_type": "code",
   "execution_count": 2,
   "id": "0efc1e3b-8d57-428f-bad1-76fc858005c5",
   "metadata": {},
   "outputs": [
    {
     "name": "stdout",
     "output_type": "stream",
     "text": [
      "[2, 3, 4, 6, 12, 67, 89]\n",
      "<class 'list'>\n"
     ]
    }
   ],
   "source": [
    "li1 = [2,3,4,6,12,67,89]\n",
    "print(li1)\n",
    "print(type(li1))"
   ]
  },
  {
   "cell_type": "code",
   "execution_count": 3,
   "id": "9070ae89-5072-409a-a794-bdb4b20d0a61",
   "metadata": {},
   "outputs": [
    {
     "name": "stdout",
     "output_type": "stream",
     "text": [
      "[2, 3, 4, 6, 12, 'a', 'y']\n",
      "<class 'list'>\n"
     ]
    }
   ],
   "source": [
    "li2 = [2,3,4,6,12,\"a\",\"y\"]\n",
    "print(li2)\n",
    "print(type(li2))"
   ]
  },
  {
   "cell_type": "code",
   "execution_count": 6,
   "id": "ef2c26d1-d616-4080-a090-c64184d5d2ee",
   "metadata": {},
   "outputs": [
    {
     "name": "stdout",
     "output_type": "stream",
     "text": [
      "56 78 12\n",
      "77 23 78\n",
      "[56, 78, 12] [57, 88, 78, 23, 77]\n",
      "[56, 12, 88, 23]\n",
      "[56, 57, 23]\n",
      "[77, 23, 78, 88, 57, 12, 78, 56]\n"
     ]
    }
   ],
   "source": [
    "#slicing # cutting into pieces\n",
    "li = [56,78,12,57,88,78,23,77]\n",
    "print(li[0],li[1],li[2]) # forward index\n",
    "print(li[-1],li[-2],li[-3])\n",
    "print(li[0:3],li[3:])\n",
    "print(li[0::2])\n",
    "print(li[0::3])\n",
    "print(li[::-1]) #reversed list"
   ]
  },
  {
   "cell_type": "code",
   "execution_count": null,
   "id": "c12ef235-d75d-4af6-91d9-cb4184d08149",
   "metadata": {},
   "outputs": [],
   "source": [
    "#built-in methods\n",
    "# sum(),min(),max(),sorted(),len()"
   ]
  },
  {
   "cell_type": "code",
   "execution_count": 7,
   "id": "ab8ac222-ce19-454e-90e8-bb6c5b264822",
   "metadata": {},
   "outputs": [
    {
     "name": "stdout",
     "output_type": "stream",
     "text": [
      "469\n",
      "12\n",
      "88\n",
      "[12, 23, 56, 57, 77, 78, 78, 88]\n",
      "8\n"
     ]
    }
   ],
   "source": [
    "li = [56,78,12,57,88,78,23,77]\n",
    "print(sum(li))\n",
    "print(min(li))\n",
    "print(max(li))\n",
    "print(sorted(li))\n",
    "print(len(li))"
   ]
  },
  {
   "cell_type": "code",
   "execution_count": 8,
   "id": "3cddeac0-2686-44cc-a980-54803b9dea3f",
   "metadata": {},
   "outputs": [
    {
     "name": "stdout",
     "output_type": "stream",
     "text": [
      "['__add__', '__class__', '__class_getitem__', '__contains__', '__delattr__', '__delitem__', '__dir__', '__doc__', '__eq__', '__format__', '__ge__', '__getattribute__', '__getitem__', '__getstate__', '__gt__', '__hash__', '__iadd__', '__imul__', '__init__', '__init_subclass__', '__iter__', '__le__', '__len__', '__lt__', '__mul__', '__ne__', '__new__', '__reduce__', '__reduce_ex__', '__repr__', '__reversed__', '__rmul__', '__setattr__', '__setitem__', '__sizeof__', '__str__', '__subclasshook__', 'append', 'clear', 'copy', 'count', 'extend', 'index', 'insert', 'pop', 'remove', 'reverse', 'sort']"
     ]
    }
   ],
   "source": [
    "# how to list methods in python\n",
    "print(dir(list),end='')"
   ]
  },
  {
   "cell_type": "code",
   "execution_count": 13,
   "id": "42985b48-55be-4659-8e4a-7d4c15cb9637",
   "metadata": {},
   "outputs": [
    {
     "name": "stdout",
     "output_type": "stream",
     "text": [
      "[78, 4, 6, [7, 2, 5, 8, 9], 89, 45, 77]\n",
      "[7, 2, 5, 8, 9]\n",
      "5\n",
      "2\n"
     ]
    }
   ],
   "source": [
    "# nested list\n",
    "li2 = [78,4,6,[7,2,5,8,9],89,45,77]\n",
    "print(li2)\n",
    "print(li2[3])\n",
    "print(li2[3][2])\n",
    "print(li2[3][1])"
   ]
  },
  {
   "cell_type": "code",
   "execution_count": 16,
   "id": "58f9ca6c-f0a9-4ee0-a529-b42902860eca",
   "metadata": {},
   "outputs": [
    {
     "name": "stdout",
     "output_type": "stream",
     "text": [
      "[67, 23, 68, 90, 45]\n"
     ]
    }
   ],
   "source": [
    "#List methods\n",
    "# append() - we will ad new value to the list\n",
    "k = [67,23,68,90]\n",
    "k.append(45) # Listname.methodname() - syntax\n",
    "print(k)"
   ]
  },
  {
   "cell_type": "code",
   "execution_count": 17,
   "id": "02efac0a-9626-4ed9-b11e-d14cb91ac745",
   "metadata": {},
   "outputs": [
    {
     "data": {
      "text/plain": [
       "4"
      ]
     },
     "execution_count": 17,
     "metadata": {},
     "output_type": "execute_result"
    }
   ],
   "source": [
    "#count()\n",
    "#index()\n",
    "k1 = [45,56,34,67,8,1,1,1,1,2,2,2,2,9]\n",
    "k1.count(2)"
   ]
  },
  {
   "cell_type": "code",
   "execution_count": 21,
   "id": "97748254-1541-4073-8813-743fd427ed2b",
   "metadata": {},
   "outputs": [
    {
     "data": {
      "text/plain": [
       "2"
      ]
     },
     "execution_count": 21,
     "metadata": {},
     "output_type": "execute_result"
    }
   ],
   "source": [
    "#index()\n",
    "k1.index(34)"
   ]
  },
  {
   "cell_type": "code",
   "execution_count": 20,
   "id": "bc87719a-aa8f-496d-831c-86357ec4e479",
   "metadata": {},
   "outputs": [
    {
     "data": {
      "text/plain": [
       "1"
      ]
     },
     "execution_count": 20,
     "metadata": {},
     "output_type": "execute_result"
    }
   ],
   "source": [
    "k1.index(56)"
   ]
  },
  {
   "cell_type": "code",
   "execution_count": 22,
   "id": "55c12813-314e-418f-8695-042674d00660",
   "metadata": {},
   "outputs": [
    {
     "data": {
      "text/plain": [
       "5"
      ]
     },
     "execution_count": 22,
     "metadata": {},
     "output_type": "execute_result"
    }
   ],
   "source": [
    "k1.index(1)"
   ]
  },
  {
   "cell_type": "code",
   "execution_count": 23,
   "id": "771fb08c-98e8-4da0-a01f-6118370b4924",
   "metadata": {},
   "outputs": [
    {
     "name": "stdout",
     "output_type": "stream",
     "text": [
      "[67, 89, 33, 23, 55]\n"
     ]
    }
   ],
   "source": [
    "#insert()\n",
    "li = [67,33,23,55]\n",
    "li.insert(1,89)\n",
    "print(li)"
   ]
  },
  {
   "cell_type": "code",
   "execution_count": 24,
   "id": "b1c89d9a-6a6a-4a78-8663-5ab96d2aa0f8",
   "metadata": {},
   "outputs": [
    {
     "name": "stdout",
     "output_type": "stream",
     "text": [
      "[67, 89, 33, 23, 55]\n"
     ]
    },
    {
     "data": {
      "text/plain": [
       "55"
      ]
     },
     "execution_count": 24,
     "metadata": {},
     "output_type": "execute_result"
    }
   ],
   "source": [
    "# pop()\n",
    "print(li)\n",
    "li.pop()"
   ]
  },
  {
   "cell_type": "code",
   "execution_count": 25,
   "id": "64e28307-101b-40ef-b56a-69168a62255a",
   "metadata": {},
   "outputs": [
    {
     "name": "stdout",
     "output_type": "stream",
     "text": [
      "[67, 89, 33, 23]\n"
     ]
    }
   ],
   "source": [
    "print(li)"
   ]
  },
  {
   "cell_type": "code",
   "execution_count": 26,
   "id": "a41eff64-6c21-4710-bf84-7fc93cd3ec02",
   "metadata": {},
   "outputs": [
    {
     "name": "stdout",
     "output_type": "stream",
     "text": [
      "[67, 89, 33]\n"
     ]
    }
   ],
   "source": [
    "# remove() -- particular value delete\n",
    "li.remove(23)\n",
    "print(li)"
   ]
  },
  {
   "cell_type": "code",
   "execution_count": 34,
   "id": "37c48bc8-f36a-4e7f-addf-f2e97e63e640",
   "metadata": {},
   "outputs": [
    {
     "name": "stdout",
     "output_type": "stream",
     "text": [
      "[1, 2, 3, 4] [1, 2, 3, 4]\n",
      "[1, 2, 3, 4] [1, 2, 3]\n"
     ]
    }
   ],
   "source": [
    "# copy()\n",
    "list1 = [1,2,3,4]\n",
    "list2 = list1.copy()\n",
    "print(list1,list2)\n",
    "list2.pop()\n",
    "print(list1,list2)"
   ]
  },
  {
   "cell_type": "code",
   "execution_count": 29,
   "id": "9e4e707c-c18e-447a-ac9a-27097eae15e7",
   "metadata": {},
   "outputs": [
    {
     "name": "stdout",
     "output_type": "stream",
     "text": [
      "[3, 1, 6, 7, 8, 9]\n"
     ]
    }
   ],
   "source": [
    "li2 = [3,4,5,1,6,7,8,9]\n",
    "del li2[1:3]\n",
    "print(li2)"
   ]
  },
  {
   "cell_type": "code",
   "execution_count": 33,
   "id": "e5a9a562-0680-44de-ba60-07368d36f53f",
   "metadata": {},
   "outputs": [
    {
     "name": "stdout",
     "output_type": "stream",
     "text": [
      "[3, 4, 5, 6] [3, 4, 5, 6]\n",
      "[3, 4, 5] [3, 4, 5]\n"
     ]
    }
   ],
   "source": [
    "a = [3,4,5,6]\n",
    "b = a\n",
    "print(a,b)\n",
    "a.pop()\n",
    "print(a,b)"
   ]
  },
  {
   "cell_type": "code",
   "execution_count": 37,
   "id": "d1272ca9-083d-4db7-8371-294724e36fbe",
   "metadata": {},
   "outputs": [
    {
     "name": "stdout",
     "output_type": "stream",
     "text": [
      "[1, 2, 3, 4, 5, 6]\n",
      "[4, 5, 6, 1, 2, 3, 4, 5, 6]\n",
      "[1, 2, 3, 4, 5, 6] [4, 5, 6, 1, 2, 3, 4, 5, 6]\n"
     ]
    }
   ],
   "source": [
    "# extend()\n",
    "a,b = [1,2,3],[4,5,6]\n",
    "a.extend(b)\n",
    "print(a)\n",
    "b.extend(a)\n",
    "print(b)\n",
    "print(a,b)"
   ]
  },
  {
   "cell_type": "code",
   "execution_count": 38,
   "id": "f600ffff-9db9-4c7e-bf43-650ee3d676c4",
   "metadata": {},
   "outputs": [
    {
     "name": "stdout",
     "output_type": "stream",
     "text": [
      "[]\n"
     ]
    }
   ],
   "source": [
    "# clear()\n",
    "a.clear()\n",
    "print(a)"
   ]
  },
  {
   "cell_type": "code",
   "execution_count": 40,
   "id": "47684355-3fc4-4149-b97c-1aa1ff4d3f8b",
   "metadata": {},
   "outputs": [
    {
     "name": "stdout",
     "output_type": "stream",
     "text": [
      "4 5 6 1 2 3 9 "
     ]
    }
   ],
   "source": [
    "li = [4,5,6,1,2,3,9]\n",
    "for i in li:\n",
    "    print(i,end=' ')"
   ]
  },
  {
   "cell_type": "code",
   "execution_count": 41,
   "id": "cb2d4354-08d1-4e5d-8429-9bdf606d8455",
   "metadata": {},
   "outputs": [
    {
     "name": "stdout",
     "output_type": "stream",
     "text": [
      "30\n"
     ]
    }
   ],
   "source": [
    "# List values sum\n",
    "s =0\n",
    "for i in li:\n",
    "    s = s+i\n",
    "print(s)"
   ]
  },
  {
   "cell_type": "code",
   "execution_count": 43,
   "id": "3fc19c0a-1727-46f4-bc28-c26e48f08b24",
   "metadata": {},
   "outputs": [
    {
     "name": "stdout",
     "output_type": "stream",
     "text": [
      "6480\n"
     ]
    }
   ],
   "source": [
    "# List values product\n",
    "f = 1\n",
    "for i in li:\n",
    "    f = f*i\n",
    "print(f)"
   ]
  },
  {
   "cell_type": "code",
   "execution_count": 44,
   "id": "ea87c1e6-2ea4-4009-a013-9e49da2d41f2",
   "metadata": {},
   "outputs": [
    {
     "name": "stdout",
     "output_type": "stream",
     "text": [
      "5 1 3 9 "
     ]
    }
   ],
   "source": [
    "# Print only odd numbers in list\n",
    "for i in li:\n",
    "    if(i%2!=0):\n",
    "        print(i,end=' ')"
   ]
  },
  {
   "cell_type": "code",
   "execution_count": 45,
   "id": "da680f2e-945a-4251-9f7c-d6ff2824f647",
   "metadata": {},
   "outputs": [
    {
     "name": "stdout",
     "output_type": "stream",
     "text": [
      "4 6 2 "
     ]
    }
   ],
   "source": [
    "# Print only even numbers in list\n",
    "for i in li:\n",
    "    if(i%2==0):\n",
    "        print(i,end=' ')"
   ]
  },
  {
   "cell_type": "code",
   "execution_count": 47,
   "id": "2b167b1c-95d8-485a-806c-b8af680f026a",
   "metadata": {},
   "outputs": [
    {
     "name": "stdin",
     "output_type": "stream",
     "text": [
      "How many items?  4\n",
      "Enter values:  2\n",
      "Enter values:  3\n",
      "Enter values:  4\n",
      "Enter values:  5\n"
     ]
    },
    {
     "name": "stdout",
     "output_type": "stream",
     "text": [
      "['2', '3', '4', '5']\n"
     ]
    }
   ],
   "source": [
    "n = int(input('How many items? '))\n",
    "items = []\n",
    "for i in range(n):\n",
    "    item = input('Enter values: ')\n",
    "    items.append(item)\n",
    "print(items)"
   ]
  },
  {
   "cell_type": "code",
   "execution_count": null,
   "id": "b05a08f3-9c91-4ed2-89ee-70bb51b081d2",
   "metadata": {},
   "outputs": [],
   "source": [
    "items = input().spilt()\n",
    "print(items)"
   ]
  },
  {
   "cell_type": "code",
   "execution_count": null,
   "id": "0db8948e-7782-416a-8cbc-0f148569a1d2",
   "metadata": {},
   "outputs": [],
   "source": [
    "# remove duplicate values in list\n",
    "# i/p: [12,34,12,67,89,23,34,34,34,78,22,65]\n",
    "# o/p: [12,34,67,89,23,78,22,65]"
   ]
  },
  {
   "cell_type": "code",
   "execution_count": 7,
   "id": "8621a086-95c3-4c68-b4bd-88690fa4dd48",
   "metadata": {},
   "outputs": [
    {
     "name": "stdout",
     "output_type": "stream",
     "text": [
      "New list:  [12, 22, 23, 34, 65, 67, 78, 89]\n"
     ]
    }
   ],
   "source": [
    "list1 = [12,34,12,67,89,23,34,34,34,78,22,65]\n",
    "list2 = list(set(list1))\n",
    "print(\"New list: \",sorted(list2))"
   ]
  },
  {
   "cell_type": "code",
   "execution_count": 1,
   "id": "8c6c6808-a945-4e76-b9c4-081f65fb848d",
   "metadata": {},
   "outputs": [
    {
     "name": "stdin",
     "output_type": "stream",
     "text": [
      "Enter items seperated by space:  1 2 4\n"
     ]
    },
    {
     "name": "stdout",
     "output_type": "stream",
     "text": [
      "['1', '2', '4']\n"
     ]
    }
   ],
   "source": [
    "items = input(\"Enter items seperated by space: \").split()\n",
    "print(items)"
   ]
  },
  {
   "cell_type": "code",
   "execution_count": 3,
   "id": "389b6e7b-ce1e-4977-af55-43e565f4d6f5",
   "metadata": {},
   "outputs": [
    {
     "name": "stdout",
     "output_type": "stream",
     "text": [
      "[12, 34, 67, 89, 23, 78, 22, 65]\n"
     ]
    }
   ],
   "source": [
    "li = [12,34,12,67,89,23,34,34,34,78,22,65 \n",
    "new = []\n",
    "for i in li:\n",
    "    if i not in new:\n",
    "        new.append(i)\n",
    "print(new)"
   ]
  },
  {
   "cell_type": "code",
   "execution_count": null,
   "id": "746d53c8-fe07-400b-8210-8b5a4667394e",
   "metadata": {},
   "outputs": [],
   "source": []
  }
 ],
 "metadata": {
  "kernelspec": {
   "display_name": "Python 3 (ipykernel)",
   "language": "python",
   "name": "python3"
  },
  "language_info": {
   "codemirror_mode": {
    "name": "ipython",
    "version": 3
   },
   "file_extension": ".py",
   "mimetype": "text/x-python",
   "name": "python",
   "nbconvert_exporter": "python",
   "pygments_lexer": "ipython3",
   "version": "3.12.7"
  }
 },
 "nbformat": 4,
 "nbformat_minor": 5
}
