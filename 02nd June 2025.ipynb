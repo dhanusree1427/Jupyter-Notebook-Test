{
 "cells": [
  {
   "cell_type": "markdown",
   "id": "562ad7bb-6743-4d86-b09f-bcf8f405cd85",
   "metadata": {},
   "source": [
    "# Comprehensions\n",
    "      - It is a process of creating New sequence from existedsquence\n",
    "      - 3 Types of comprehesions\n",
    "          - List comprehenson\n",
    "          - dictionary comprehension\n",
    "          - set comprehension"
   ]
  },
  {
   "cell_type": "markdown",
   "id": "270d456c-b381-4324-830d-59f87f200a69",
   "metadata": {},
   "source": [
    "# Advantages of comprehensions\n",
    "  - Less code\n",
    "  - Less complexity"
   ]
  },
  {
   "cell_type": "markdown",
   "id": "98fd8522-4d06-4d9c-b52b-28f083e397de",
   "metadata": {},
   "source": [
    "# syntax for list comprehension\n",
    "----------------------------------------\n",
    "           [output_variable loop condition]"
   ]
  },
  {
   "cell_type": "code",
   "execution_count": 1,
   "id": "c4ebaf20-4031-41a8-babc-5ef937a1945d",
   "metadata": {},
   "outputs": [],
   "source": [
    "# i/p: [23,56,78,90,44,77,99]\n",
    "# o/p: [23,77,99]"
   ]
  },
  {
   "cell_type": "code",
   "execution_count": 2,
   "id": "4238f57f-2d9d-43ba-b184-e1048973eb6b",
   "metadata": {},
   "outputs": [
    {
     "name": "stdout",
     "output_type": "stream",
     "text": [
      "[23, 77, 99]\n"
     ]
    }
   ],
   "source": [
    "li = [23,56,78,90,44,77,99]\n",
    "new = []\n",
    "for i in li:\n",
    "    if(i%2==1):\n",
    "        new.append(i)\n",
    "print(new)"
   ]
  },
  {
   "cell_type": "code",
   "execution_count": 3,
   "id": "62149d23-e4e0-41e1-bd43-59f7a0862798",
   "metadata": {},
   "outputs": [
    {
     "name": "stdout",
     "output_type": "stream",
     "text": [
      "[23, 77, 99]\n"
     ]
    }
   ],
   "source": [
    "k = [i for i in li if(i%2==1)]\n",
    "print(k)"
   ]
  },
  {
   "cell_type": "code",
   "execution_count": 4,
   "id": "376bec2a-6147-46e0-a371-2e46f444e933",
   "metadata": {},
   "outputs": [
    {
     "name": "stdout",
     "output_type": "stream",
     "text": [
      "[0, 1, 2, 3, 4, 5, 6, 7, 8, 9, 10, 11, 12, 13, 14, 15, 16, 17, 18, 19, 20, 21, 22, 23, 24, 25, 26, 27, 28, 29, 30, 31, 32, 33, 34, 35, 36, 37, 38, 39, 40, 41, 42, 43, 44, 45, 46, 47, 48, 49]\n"
     ]
    }
   ],
   "source": [
    "# print natural numbers upto 50\n",
    "j = [i for i in range(50)]\n",
    "print(j)"
   ]
  },
  {
   "cell_type": "code",
   "execution_count": 5,
   "id": "3277a422-e516-4a1f-9de9-ac6ce9061099",
   "metadata": {},
   "outputs": [
    {
     "name": "stdout",
     "output_type": "stream",
     "text": [
      "[1, 4, 9, 16, 25, 36, 49, 64, 81, 100, 121, 144, 169, 196, 225, 256, 289, 324, 361, 400, 441, 484, 529, 576, 625, 676, 729, 784, 841, 900, 961, 1024, 1089, 1156, 1225, 1296, 1369, 1444, 1521, 1600, 1681, 1764, 1849, 1936, 2025, 2116, 2209, 2304, 2401, 2500, 2601, 2704, 2809, 2916, 3025, 3136, 3249, 3364, 3481, 3600, 3721, 3844, 3969, 4096, 4225, 4356, 4489, 4624, 4761, 4900, 5041, 5184, 5329, 5476, 5625, 5776, 5929, 6084, 6241, 6400, 6561, 6724, 6889, 7056, 7225, 7396, 7569, 7744, 7921, 8100, 8281, 8464, 8649, 8836, 9025, 9216, 9409, 9604, 9801, 10000]\n"
     ]
    }
   ],
   "source": [
    "h = [i**2 for i in range(1,101)]\n",
    "print(h)"
   ]
  },
  {
   "cell_type": "code",
   "execution_count": 10,
   "id": "d295f37a-4cca-41cb-86ea-53b26322aeae",
   "metadata": {},
   "outputs": [
    {
     "name": "stdout",
     "output_type": "stream",
     "text": [
      "sum:  5050\n"
     ]
    }
   ],
   "source": [
    "# sum of natural numbers\n",
    "total = sum([i for i in range(1,101)])\n",
    "print(\"sum: \",total)"
   ]
  },
  {
   "cell_type": "code",
   "execution_count": 11,
   "id": "1137ec54-fe54-4714-8ec9-0a900fe4e0ca",
   "metadata": {},
   "outputs": [
    {
     "name": "stdout",
     "output_type": "stream",
     "text": [
      "[15, 30, 45]\n"
     ]
    }
   ],
   "source": [
    "# print numbers which are divisible by 3 and 5\n",
    "d = [i for i in range(1,50) if (i%3==0 and i%5==0)]\n",
    "print(d)"
   ]
  },
  {
   "cell_type": "markdown",
   "id": "fddef59a-0a50-425f-875d-d80fa52ea1e2",
   "metadata": {},
   "source": [
    "# Task  -01\n",
    "  - 1.Print vowels in a string using list comprrehension\n",
    "       - i/p: \"list coprehension\"\n",
    "       - o/p: a e i o u"
   ]
  },
  {
   "cell_type": "markdown",
   "id": "f4938d81-b187-4aeb-b865-27a3c1b386b4",
   "metadata": {},
   "source": [
    "# syntax for dictionary comprehension\n",
    "  [output_variable loop condition]"
   ]
  },
  {
   "cell_type": "code",
   "execution_count": 14,
   "id": "45b5d9b7-144a-47ff-96f0-d10bc4e0e2ff",
   "metadata": {},
   "outputs": [
    {
     "name": "stdout",
     "output_type": "stream",
     "text": [
      "{1: 1, 2: 4, 3: 9, 4: 16, 5: 25}\n"
     ]
    }
   ],
   "source": [
    "k = {i:i**2 for i in range(1,6)}\n",
    "print(k)"
   ]
  },
  {
   "cell_type": "code",
   "execution_count": 15,
   "id": "09867eba-a041-4d87-8b26-60fe445069db",
   "metadata": {},
   "outputs": [
    {
     "name": "stdout",
     "output_type": "stream",
     "text": [
      "{5: 125, 6: 216, 7: 343, 2: 8, 3: 27, 4: 64, 9: 729}\n"
     ]
    }
   ],
   "source": [
    "li = [5,6,7,2,3,4,9]\n",
    "k1 = {i:i**3 for i in li}\n",
    "print(k1)"
   ]
  },
  {
   "cell_type": "code",
   "execution_count": 17,
   "id": "7aef6bbf-7162-425a-96e7-9cc19c9f21c5",
   "metadata": {},
   "outputs": [
    {
     "name": "stdout",
     "output_type": "stream",
     "text": [
      "{'ONE': 'TWO', 'THREE': 'FOUR', 'FIVE': 'SIX', 'SEVEN': 'EIGHT'}\n"
     ]
    }
   ],
   "source": [
    "# convert the string keys and values upper to lower,lower to upper\n",
    "# {'one':'two','three':'four','five':'six','seven':'eight'}\n",
    "words = {'one':'two','three':'four','five':'six','seven':'eight'}\n",
    "upper = {k.upper():v.upper() for k,v in words.items()}\n",
    "print(upper)"
   ]
  },
  {
   "cell_type": "markdown",
   "id": "bfe114ba-f5c6-4f2c-87c2-0c44e553a791",
   "metadata": {},
   "source": [
    "#  TASK  -02\n",
    "  -  I/P: {'ONE':'two','THREE':'four','FIVE':'six','SEVEN':'eight'}\n",
    "  -  O/P: {'one':'TWO','three':'FOUR','five':'SIX','seven':'EIGHT'}"
   ]
  },
  {
   "cell_type": "code",
   "execution_count": 18,
   "id": "089da0da-01e8-40c8-9886-e2dc574459e8",
   "metadata": {},
   "outputs": [
    {
     "name": "stdout",
     "output_type": "stream",
     "text": [
      "{'a': 1, 'b': 2, 'c': 3}\n"
     ]
    }
   ],
   "source": [
    "# create a dictionary from two lists\n",
    "keys = ['a','b','c']\n",
    "values = [1,2,3]\n",
    "combined = {k:v for k,v in zip(keys,values)}\n",
    "print(combined)"
   ]
  },
  {
   "cell_type": "code",
   "execution_count": 19,
   "id": "55914321-e1f4-4739-a94c-ea2a3623d479",
   "metadata": {},
   "outputs": [
    {
     "name": "stdout",
     "output_type": "stream",
     "text": [
      "{1: 'a', 2: 'b', 3: 'c'}\n"
     ]
    }
   ],
   "source": [
    "# swap keys and values\n",
    "original = {'a': 1, 'b': 2, 'c': 3}\n",
    "swap = {v:k for k,v in original.items()}\n",
    "print(swap)"
   ]
  },
  {
   "cell_type": "markdown",
   "id": "8a6d645e-4157-4c1f-bc96-03d70422cc7e",
   "metadata": {},
   "source": [
    "# task  -03\n",
    "   - character frequency in a string\n",
    "        - i/p: \"dictionary\"\n",
    "        - o/p: {'d':1, 'i':2, 'c': 1........}"
   ]
  },
  {
   "cell_type": "markdown",
   "id": "5aa68db1-0e60-49e4-9515-8d7ec9d48c56",
   "metadata": {},
   "source": [
    "# Set comprehension\n",
    " - SYNTAX :- {output_variable loop cndition}"
   ]
  },
  {
   "cell_type": "code",
   "execution_count": 20,
   "id": "e151a974-d829-4d3c-8694-97eb61999600",
   "metadata": {},
   "outputs": [
    {
     "name": "stdout",
     "output_type": "stream",
     "text": [
      "{2, 4, 6, 8, 10, 12, 14, 16, 18, 20, 22, 24, 26, 28, 30}\n"
     ]
    }
   ],
   "source": [
    "#print even numbers from 1 to 30 using set comprehension\n",
    "even = {i for i in range(1,31) if(i%2==0)}\n",
    "print(even)"
   ]
  },
  {
   "cell_type": "code",
   "execution_count": 21,
   "id": "1814c40c-68bb-4edd-a216-9ff313943088",
   "metadata": {},
   "outputs": [
    {
     "name": "stdout",
     "output_type": "stream",
     "text": [
      "{3, 5, 6, 9, 10, 12, 15, 18, 20, 21, 24, 25, 27, 30, 33, 35, 36, 39, 40, 42, 45, 48}\n"
     ]
    }
   ],
   "source": [
    "# print the values which are divisible by 3 or 5 set comprehension\n",
    "n = {i for i in range(1,50) if(i%3==0 or i%5==0)}\n",
    "print(n)"
   ]
  },
  {
   "cell_type": "code",
   "execution_count": 24,
   "id": "16d57e81-ecaa-4957-8375-9a77c715166e",
   "metadata": {},
   "outputs": [
    {
     "name": "stdout",
     "output_type": "stream",
     "text": [
      "{'t', 'n', 'o'}\n"
     ]
    }
   ],
   "source": [
    "# print common letters between two strings using set comprehension\n",
    "str1 = \"python\"\n",
    "str2 = \"notebook\"\n",
    "common = {ch for ch in str1 if ch in str2}\n",
    "print(common)"
   ]
  },
  {
   "cell_type": "code",
   "execution_count": 25,
   "id": "de90e8ae-3e12-454f-aed4-33a47eaaf902",
   "metadata": {},
   "outputs": [
    {
     "name": "stdout",
     "output_type": "stream",
     "text": [
      "{'b', 'g', 'a', 'c', 'm'}\n"
     ]
    }
   ],
   "source": [
    "# print first letters of words\n",
    "words = {'apple','banana','grape','mango','cherry'}\n",
    "f_c={i[0] for i in words}\n",
    "print(f_c)"
   ]
  },
  {
   "cell_type": "markdown",
   "id": "e5e83fc0-6c7c-422a-9592-6708add582ec",
   "metadata": {},
   "source": [
    "# TASK -04\n",
    "    - i/p: words = {'apple','banana','grape','mango','cherry'}\n",
    "    - o/p: {'A','B','G','M','C'}"
   ]
  },
  {
   "cell_type": "code",
   "execution_count": 3,
   "id": "6c52dcd1-b070-48df-8b49-db047aad9560",
   "metadata": {},
   "outputs": [
    {
     "name": "stdout",
     "output_type": "stream",
     "text": [
      "['i', 'o', 'e', 'e', 'i', 'o']\n"
     ]
    }
   ],
   "source": [
    "# .Print vowels in a string using list comprrehension\n",
    "# i/p: \"list coprehension\"\n",
    "# o/p: a e i o u\n",
    "a = \"list comprehension\"\n",
    "vowels = [i for i in a if i in 'aeiouAEIOU']\n",
    "print(vowels)"
   ]
  },
  {
   "cell_type": "code",
   "execution_count": 4,
   "id": "723f982b-dd6d-472f-80f6-3ea9ec3f9db7",
   "metadata": {},
   "outputs": [
    {
     "name": "stdout",
     "output_type": "stream",
     "text": [
      "{'one': 'TWO', 'three': 'FOUR', 'five': 'SIX', 'seven': 'EIGHT'}\n"
     ]
    }
   ],
   "source": [
    "# I/P: {'ONE':'two','THREE':'four','FIVE':'six','SEVEN':'eight'}\n",
    "# O/P: {'one':'TWO','three':'FOUR','five':'SIX','seven':'EIGHT'}\n",
    "w = {'ONE':'two','THREE':'four','FIVE':'six','SEVEN':'eight'}\n",
    "u = {k.lower():v.upper() for k,v in w.items()}\n",
    "print(u)"
   ]
  },
  {
   "cell_type": "code",
   "execution_count": 10,
   "id": "c24bcb39-e150-4143-947a-323f5793bb70",
   "metadata": {},
   "outputs": [
    {
     "name": "stdout",
     "output_type": "stream",
     "text": [
      "{'d': 1, 'i': 2, 'c': 1, 't': 1, 'o': 1, 'n': 1, 'a': 1, 'r': 1, 'y': 1}\n"
     ]
    }
   ],
   "source": [
    "# character frequency in a string\n",
    "# i/p: \"dictionary\"\n",
    "# o/p: {'d':1, 'i':2, 'c': 1........}\n",
    "a = \"dictionary\"\n",
    "freq = {c: a.count(c) for c in a}\n",
    "print(freq)"
   ]
  },
  {
   "cell_type": "code",
   "execution_count": 30,
   "id": "32335595-8bef-4477-9b47-721e7a6d41a6",
   "metadata": {},
   "outputs": [
    {
     "name": "stdout",
     "output_type": "stream",
     "text": [
      "{'C', 'B', 'G', 'A', 'M'}\n"
     ]
    }
   ],
   "source": [
    "# i/p: words = {'apple','banana','grape','mango','cherry'}\n",
    "# o/p: {'A','B','G','M','C'}\n",
    "words = {'apple','banana','grape','mango','cherry'}\n",
    "f = {i[0].upper() for i in words}\n",
    "print(f)"
   ]
  },
  {
   "cell_type": "code",
   "execution_count": null,
   "id": "a70827a2-6daf-46d8-a5f8-01e1e3f20af3",
   "metadata": {},
   "outputs": [],
   "source": []
  }
 ],
 "metadata": {
  "kernelspec": {
   "display_name": "Python 3 (ipykernel)",
   "language": "python",
   "name": "python3"
  },
  "language_info": {
   "codemirror_mode": {
    "name": "ipython",
    "version": 3
   },
   "file_extension": ".py",
   "mimetype": "text/x-python",
   "name": "python",
   "nbconvert_exporter": "python",
   "pygments_lexer": "ipython3",
   "version": "3.12.7"
  }
 },
 "nbformat": 4,
 "nbformat_minor": 5
}
