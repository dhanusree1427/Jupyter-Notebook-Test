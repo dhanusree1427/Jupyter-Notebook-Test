{
 "cells": [
  {
   "cell_type": "markdown",
   "id": "3a9c293a-48bf-4ae7-a796-e699755e422d",
   "metadata": {},
   "source": []
  },
  {
   "cell_type": "code",
   "execution_count": 7,
   "id": "c2845f10-76bc-4a25-bbcd-a011dfc14a1a",
   "metadata": {},
   "outputs": [
    {
     "name": "stdout",
     "output_type": "stream",
     "text": [
      "Welcome to the Python Quiz App!!!!...\n",
      "\n",
      "Q1.What is the Output of print(2+3*4)?\n",
      "A. 20\n",
      "B. 14\n",
      "C. 16\n",
      "D. 22\n"
     ]
    },
    {
     "name": "stdin",
     "output_type": "stream",
     "text": [
      "Your answer (A/B/C/D):  B\n"
     ]
    },
    {
     "name": "stdout",
     "output_type": "stream",
     "text": [
      "Correct\n",
      "\n",
      "Q2.How does Python implement object-oriented programming(OOP)?\n",
      "A. classes\n",
      "B. objects\n",
      "C. Both A and B\n",
      "D. None of the above\n"
     ]
    },
    {
     "name": "stdin",
     "output_type": "stream",
     "text": [
      "Your answer (A/B/C/D):  C\n"
     ]
    },
    {
     "name": "stdout",
     "output_type": "stream",
     "text": [
      "Correct\n",
      "\n",
      "Q3.Which of the following funtions is a built-in function in python?\n",
      "A. print()\n",
      "B. factorial()\n",
      "C. seed()\n",
      "D. sqrt()\n"
     ]
    },
    {
     "name": "stdin",
     "output_type": "stream",
     "text": [
      "Your answer (A/B/C/D):  A\n"
     ]
    },
    {
     "name": "stdout",
     "output_type": "stream",
     "text": [
      "Correct\n",
      "\n",
      "Q4.Which of the following is not a core data type in Python Programming?\n",
      "A. Tuples\n",
      "B. Lists\n",
      "C. Class\n",
      "D. Dictionary\n"
     ]
    },
    {
     "name": "stdin",
     "output_type": "stream",
     "text": [
      "Your answer (A/B/C/D):  C\n"
     ]
    },
    {
     "name": "stdout",
     "output_type": "stream",
     "text": [
      "Correct\n",
      "\n",
      "Q5.What is the output of print(len([hello,2,4,6]))?\n",
      "A. Error\n",
      "B. 4\n",
      "C. 6\n",
      "D. 3\n"
     ]
    },
    {
     "name": "stdin",
     "output_type": "stream",
     "text": [
      "Your answer (A/B/C/D):  B\n"
     ]
    },
    {
     "name": "stdout",
     "output_type": "stream",
     "text": [
      "Correct\n",
      "\n",
      " Quiz completed! Your score: 5/5\n"
     ]
    }
   ],
   "source": [
    "print(\"Welcome to the Python Quiz App!!!!...\")\n",
    "questions = [\n",
    "    {\n",
    "        \"question\": \"What is the Output of print(2+3*4)?\",\n",
    "        \"options\":[\"A. 20\", \"B. 14\", \"C. 16\", \"D. 22\"],\n",
    "        \"answer\": \"B\"},\n",
    "    {\n",
    "        \"question\": \"How does Python implement object-oriented programming(OOP)?\",\n",
    "        \"options\":[\"A. classes\", \"B. objects\", \"C. Both A and B\", \"D. None of the above\"],\n",
    "        \"answer\": \"C\"},\n",
    "    {\n",
    "        \"question\": \"Which of the following funtions is a built-in function in python?\",\n",
    "        \"options\":[\"A. print()\", \"B. factorial()\", \"C. seed()\", \"D. sqrt()\"],\n",
    "        \"answer\": \"A\"},\n",
    "    {\n",
    "        \"question\": \"Which of the following is not a core data type in Python Programming?\",\n",
    "        \"options\":[\"A. Tuples\", \"B. Lists\", \"C. Class\", \"D. Dictionary\"],\n",
    "        \"answer\": \"C\"},\n",
    "    {\n",
    "        \"question\": \"What is the output of print(len([hello,2,4,6]))?\",\n",
    "        \"options\":[\"A. Error\", \"B. 4\", \"C. 6\", \"D. 3\"],\n",
    "        \"answer\": \"B\"}\n",
    "]\n",
    "score = 0\n",
    "for i, q in enumerate(questions, 1):\n",
    "    print(f\"\\nQ{i}.{q['question']}\")\n",
    "    for option in q['options']:\n",
    "        print(option)\n",
    "    user_answer = input(\"Your answer (A/B/C/D): \").strip().upper()\n",
    "    if user_answer == q['answer']:\n",
    "        print(\"Correct\")\n",
    "        score += 1\n",
    "    else:\n",
    "        print(f\" Wrong! The Correct answer was {q['answer']}\")\n",
    "print(f\"\\n Quiz completed! Your score: {score}/{len(questions)}\")"
   ]
  },
  {
   "cell_type": "code",
   "execution_count": 1,
   "id": "7aae837e-b6fe-4a8a-8f9a-4fa8851256e5",
   "metadata": {},
   "outputs": [
    {
     "name": "stdout",
     "output_type": "stream",
     "text": [
      "Welcome to the Python Quiz App!!!!...\n",
      "You have 15 seconds for each question! \n",
      "\n",
      "\n",
      "Q1.What is the Output of print(2+3*4)?\n",
      "A. 20\n",
      "B. 14\n",
      "C. 16\n",
      "D. 22\n"
     ]
    },
    {
     "name": "stdin",
     "output_type": "stream",
     "text": [
      "Your answer (A/B/C/D):  B\n"
     ]
    },
    {
     "name": "stdout",
     "output_type": "stream",
     "text": [
      "Correct\n",
      "\n",
      "Q2.What is the output of print(len([hello,2,4,6]))?\n",
      "A. Error\n",
      "B. 4\n",
      "C. 6\n",
      "D. 3\n"
     ]
    },
    {
     "name": "stdin",
     "output_type": "stream",
     "text": [
      "Your answer (A/B/C/D):  B\n"
     ]
    },
    {
     "name": "stdout",
     "output_type": "stream",
     "text": [
      "Correct\n",
      "\n",
      "Q3.Which of the following funtions is a built-in function in python?\n",
      "A. print()\n",
      "B. factorial()\n",
      "C. seed()\n",
      "D. sqrt()\n"
     ]
    },
    {
     "name": "stdin",
     "output_type": "stream",
     "text": [
      "Your answer (A/B/C/D):  A\n"
     ]
    },
    {
     "name": "stdout",
     "output_type": "stream",
     "text": [
      "Correct\n",
      "\n",
      "Q4.Which of the following is not a core data type in Python Programming?\n",
      "A. Tuples\n",
      "B. Lists\n",
      "C. Class\n",
      "D. Dictionary\n"
     ]
    },
    {
     "name": "stdin",
     "output_type": "stream",
     "text": [
      "Your answer (A/B/C/D):  C\n"
     ]
    },
    {
     "name": "stdout",
     "output_type": "stream",
     "text": [
      "Correct\n",
      "\n",
      "Q5.How does Python implement object-oriented programming(OOP)?\n",
      "A. classes\n",
      "B. objects\n",
      "C. Both A and B\n",
      "D. None of the above\n"
     ]
    },
    {
     "name": "stdin",
     "output_type": "stream",
     "text": [
      "Your answer (A/B/C/D):  C\n"
     ]
    },
    {
     "name": "stdout",
     "output_type": "stream",
     "text": [
      "Correct\n",
      "\n",
      " Quiz completed! Your score: 5/5\n",
      "\n",
      " Quiz Completed!\n",
      "Score : 5/5\n",
      "Percentage : 100.0%\n",
      "Rating : Genius!\n",
      "Total Time Taken : 21.35 seconds\n"
     ]
    }
   ],
   "source": [
    "import time\n",
    "import random\n",
    "questions = [\n",
    "    {\n",
    "        \"question\": \"What is the Output of print(2+3*4)?\",\n",
    "        \"options\":[\"A. 20\", \"B. 14\", \"C. 16\", \"D. 22\"],\n",
    "        \"answer\": \"B\"},\n",
    "    {\n",
    "        \"question\": \"How does Python implement object-oriented programming(OOP)?\",\n",
    "        \"options\":[\"A. classes\", \"B. objects\", \"C. Both A and B\", \"D. None of the above\"],\n",
    "        \"answer\": \"C\"},\n",
    "    {\n",
    "        \"question\": \"Which of the following funtions is a built-in function in python?\",\n",
    "        \"options\":[\"A. print()\", \"B. factorial()\", \"C. seed()\", \"D. sqrt()\"],\n",
    "        \"answer\": \"A\"},\n",
    "    {\n",
    "        \"question\": \"Which of the following is not a core data type in Python Programming?\",\n",
    "        \"options\":[\"A. Tuples\", \"B. Lists\", \"C. Class\", \"D. Dictionary\"],\n",
    "        \"answer\": \"C\"},\n",
    "    {\n",
    "        \"question\": \"What is the output of print(len([hello,2,4,6]))?\",\n",
    "        \"options\":[\"A. Error\", \"B. 4\", \"C. 6\", \"D. 3\"],\n",
    "        \"answer\": \"B\"}\n",
    "]\n",
    "random.shuffle(questions)\n",
    "score = 0\n",
    "total_questions = len(questions)\n",
    "start_time = time.time()\n",
    "print(\"Welcome to the Python Quiz App!!!!...\")\n",
    "print(\"You have 15 seconds for each question! \\n\")\n",
    "for i, q in enumerate(questions, 1):\n",
    "    print(f\"\\nQ{i}.{q['question']}\")\n",
    "    for option in q['options']:\n",
    "        print(option)\n",
    "    q_start = time.time()\n",
    "    user_answer = input(\"Your answer (A/B/C/D): \").strip().upper()\n",
    "    q_end = time.time()\n",
    "    time_taken = q_end - q_start\n",
    "    if time_taken > 15:\n",
    "        print(\"Time's up! You took too long.\")\n",
    "        continue\n",
    "    if user_answer == q['answer']:\n",
    "        print(\"Correct\")\n",
    "        score += 1\n",
    "    else:\n",
    "        print(f\" Wrong! The Correct answer was {q['answer']}\")\n",
    "print(f\"\\n Quiz completed! Your score: {score}/{len(questions)}\")\n",
    "end_time = time.time()\n",
    "total_time = round(end_time - start_time, 2)\n",
    "percent = round((score/total_questions)*100,2)\n",
    "if percent == 100:\n",
    "    rating = \"Genius!\"\n",
    "elif percent >= 80:\n",
    "    rating = \"Greadt Job!\"\n",
    "elif percent >= 50:\n",
    "    rating = \"Not Bad\"\n",
    "else:\n",
    "    rating = \"Try Again\"\n",
    "print(\"\\n Quiz Completed!\")\n",
    "print(f\"Score : {score}/{total_questions}\")\n",
    "print(f\"Percentage : {percent}%\")\n",
    "print(f\"Rating : {rating}\")\n",
    "print(f\"Total Time Taken : {total_time} seconds\")"
   ]
  },
  {
   "cell_type": "code",
   "execution_count": 9,
   "id": "e261eb43-5436-4da4-9ea0-1fd34bf3c956",
   "metadata": {},
   "outputs": [
    {
     "name": "stdout",
     "output_type": "stream",
     "text": [
      "Score saved to 'quiz_scores.txt'\n"
     ]
    }
   ],
   "source": [
    "with open(\"quiz_scores.txt\",\"a\") as file:\n",
    "    file.write(f\"Score: {score}/{total_questions} | Time: {total_time}s\\n\")\n",
    "print(\"Score saved to 'quiz_scores.txt'\")"
   ]
  },
  {
   "cell_type": "code",
   "execution_count": null,
   "id": "f598fb0a-d7f3-4a3d-943a-c08a9f0876d1",
   "metadata": {},
   "outputs": [],
   "source": []
  }
 ],
 "metadata": {
  "kernelspec": {
   "display_name": "Python 3 (ipykernel)",
   "language": "python",
   "name": "python3"
  },
  "language_info": {
   "codemirror_mode": {
    "name": "ipython",
    "version": 3
   },
   "file_extension": ".py",
   "mimetype": "text/x-python",
   "name": "python",
   "nbconvert_exporter": "python",
   "pygments_lexer": "ipython3",
   "version": "3.12.7"
  }
 },
 "nbformat": 4,
 "nbformat_minor": 5
}
