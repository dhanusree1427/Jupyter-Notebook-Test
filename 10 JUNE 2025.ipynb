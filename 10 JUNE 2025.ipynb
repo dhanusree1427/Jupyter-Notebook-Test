{
 "cells": [
  {
   "cell_type": "markdown",
   "id": "1ad00043-2f9c-4e78-9e1d-62af293ba78f",
   "metadata": {},
   "source": [
    "### Pandas\n",
    "      - It means panel data.\n",
    "      - It is one of the data science package.\n",
    "      - used for data analysis, manuplication and cleaning.\n",
    "      - It contains 2 data sructures in pandas.\n",
    "           - series   - sequence of data.\n",
    "           - dataframes :- Data frame is a data with row and column."
   ]
  },
  {
   "cell_type": "markdown",
   "id": "80fbe4e9-361c-4b09-8920-8609e52f1ad2",
   "metadata": {},
   "source": [
    "# Installation\n",
    "    * pip install pandas"
   ]
  },
  {
   "cell_type": "code",
   "execution_count": 1,
   "id": "a535b81f-a17e-472a-8f3a-7cfd849995c4",
   "metadata": {},
   "outputs": [],
   "source": [
    "# how to import pandas\n",
    "import pandas"
   ]
  },
  {
   "cell_type": "code",
   "execution_count": 3,
   "id": "0aca7d07-4e5b-4531-aa96-dd7ef563fa85",
   "metadata": {},
   "outputs": [],
   "source": [
    "import pandas as pd"
   ]
  },
  {
   "cell_type": "markdown",
   "id": "cf35a704-74c0-4ab5-bb35-2751f8a34413",
   "metadata": {},
   "source": [
    "# pandas series data structure\n",
    "      - syntax :- pd.Series(data,index,dtype)"
   ]
  },
  {
   "cell_type": "code",
   "execution_count": 11,
   "id": "72fd5527-858f-4cf8-b0e8-3ddf5271df54",
   "metadata": {},
   "outputs": [
    {
     "name": "stdout",
     "output_type": "stream",
     "text": [
      "hello\n"
     ]
    },
    {
     "data": {
      "text/plain": [
       "0    hello\n",
       "dtype: object"
      ]
     },
     "execution_count": 11,
     "metadata": {},
     "output_type": "execute_result"
    }
   ],
   "source": [
    "s = \"hello\"\n",
    "print(s)\n",
    "pd.Series(s)"
   ]
  },
  {
   "cell_type": "code",
   "execution_count": 10,
   "id": "23275827-91bb-49ec-bf65-329c0d160e43",
   "metadata": {},
   "outputs": [
    {
     "name": "stdout",
     "output_type": "stream",
     "text": [
      "['hi', 'hello', 'gd', 'afternon']\n"
     ]
    },
    {
     "data": {
      "text/plain": [
       "0          hi\n",
       "1       hello\n",
       "2          gd\n",
       "3    afternon\n",
       "dtype: object"
      ]
     },
     "execution_count": 10,
     "metadata": {},
     "output_type": "execute_result"
    }
   ],
   "source": [
    "s1 = \"hi hello gd afternon\".split()\n",
    "print(s1)\n",
    "pd.Series(s1)"
   ]
  },
  {
   "cell_type": "code",
   "execution_count": 12,
   "id": "0d2213d3-e7d9-44b2-84ad-741bf95b2217",
   "metadata": {},
   "outputs": [
    {
     "name": "stdout",
     "output_type": "stream",
     "text": [
      "['hi', 'hello', 'gd', 'afternon']\n"
     ]
    },
    {
     "data": {
      "text/plain": [
       "a          hi\n",
       "b       hello\n",
       "c          gd\n",
       "d    afternon\n",
       "dtype: object"
      ]
     },
     "execution_count": 12,
     "metadata": {},
     "output_type": "execute_result"
    }
   ],
   "source": [
    "print(s1)\n",
    "pd.Series(s1,index=['a','b','c','d'])"
   ]
  },
  {
   "cell_type": "code",
   "execution_count": 13,
   "id": "fdcd52e9-6ef7-4223-ae04-cca2c48a220f",
   "metadata": {},
   "outputs": [
    {
     "name": "stdout",
     "output_type": "stream",
     "text": [
      "[3, 4, 6, 'a', 'n', 7, 8]\n"
     ]
    },
    {
     "data": {
      "text/plain": [
       "0    3\n",
       "1    4\n",
       "2    6\n",
       "3    a\n",
       "4    n\n",
       "5    7\n",
       "6    8\n",
       "dtype: object"
      ]
     },
     "execution_count": 13,
     "metadata": {},
     "output_type": "execute_result"
    }
   ],
   "source": [
    "li = [3,4,6,'a','n',7,8]\n",
    "print(li)\n",
    "pd.Series(li)"
   ]
  },
  {
   "cell_type": "code",
   "execution_count": 19,
   "id": "89c65b89-6446-4030-8d0a-df89241ba8c0",
   "metadata": {},
   "outputs": [
    {
     "name": "stdout",
     "output_type": "stream",
     "text": [
      "(1, 2, 3, 'e', 4, 6, 7, 'w', 'f')\n",
      "<class 'tuple'>\n",
      "0    1\n",
      "1    2\n",
      "2    3\n",
      "3    e\n",
      "4    4\n",
      "5    6\n",
      "6    7\n",
      "7    w\n",
      "8    f\n",
      "dtype: object\n",
      "<class 'pandas.core.series.Series'>\n"
     ]
    }
   ],
   "source": [
    "t = (1,2,3,'e',4,6,7,'w','f')\n",
    "print(t)\n",
    "print(type(t))\n",
    "r = pd.Series(t)\n",
    "print(r)\n",
    "print(type(r))"
   ]
  },
  {
   "cell_type": "code",
   "execution_count": 21,
   "id": "e9e072c1-7944-4f31-ad8d-1d1a579898eb",
   "metadata": {},
   "outputs": [
    {
     "name": "stdout",
     "output_type": "stream",
     "text": [
      "{'key1': 123, 'key2': 'hello', 'key3': 'hiii'}\n"
     ]
    },
    {
     "data": {
      "text/plain": [
       "key1      123\n",
       "key2    hello\n",
       "key3     hiii\n",
       "dtype: object"
      ]
     },
     "execution_count": 21,
     "metadata": {},
     "output_type": "execute_result"
    }
   ],
   "source": [
    "d = {'key1':123,'key2':'hello','key3':'hiii'}\n",
    "print(d)\n",
    "pd.Series(d)"
   ]
  },
  {
   "cell_type": "markdown",
   "id": "9c551ee9-9126-42f5-b7ea-03b6f3c38478",
   "metadata": {},
   "source": [
    "## Pandas DataFrames"
   ]
  },
  {
   "cell_type": "code",
   "execution_count": 22,
   "id": "53792c9a-5208-4cca-96d7-4264a2f331b2",
   "metadata": {},
   "outputs": [
    {
     "data": {
      "text/html": [
       "<div>\n",
       "<style scoped>\n",
       "    .dataframe tbody tr th:only-of-type {\n",
       "        vertical-align: middle;\n",
       "    }\n",
       "\n",
       "    .dataframe tbody tr th {\n",
       "        vertical-align: top;\n",
       "    }\n",
       "\n",
       "    .dataframe thead th {\n",
       "        text-align: right;\n",
       "    }\n",
       "</style>\n",
       "<table border=\"1\" class=\"dataframe\">\n",
       "  <thead>\n",
       "    <tr style=\"text-align: right;\">\n",
       "      <th></th>\n",
       "      <th>0</th>\n",
       "    </tr>\n",
       "  </thead>\n",
       "  <tbody>\n",
       "    <tr>\n",
       "      <th>0</th>\n",
       "      <td>Welcome</td>\n",
       "    </tr>\n",
       "    <tr>\n",
       "      <th>1</th>\n",
       "      <td>to</td>\n",
       "    </tr>\n",
       "    <tr>\n",
       "      <th>2</th>\n",
       "      <td>python</td>\n",
       "    </tr>\n",
       "    <tr>\n",
       "      <th>3</th>\n",
       "      <td>programming</td>\n",
       "    </tr>\n",
       "    <tr>\n",
       "      <th>4</th>\n",
       "      <td>internship</td>\n",
       "    </tr>\n",
       "  </tbody>\n",
       "</table>\n",
       "</div>"
      ],
      "text/plain": [
       "             0\n",
       "0      Welcome\n",
       "1           to\n",
       "2       python\n",
       "3  programming\n",
       "4   internship"
      ]
     },
     "execution_count": 22,
     "metadata": {},
     "output_type": "execute_result"
    }
   ],
   "source": [
    "s = \"Welcome to python programming internship\".split()\n",
    "pd.DataFrame(s)"
   ]
  },
  {
   "cell_type": "code",
   "execution_count": 25,
   "id": "a4eb9a61-8839-4397-919e-658fce446696",
   "metadata": {},
   "outputs": [
    {
     "name": "stdout",
     "output_type": "stream",
     "text": [
      "       0  1  2\n",
      "list1  1  2  3\n",
      "list2  4  5  6\n",
      "<class 'pandas.core.frame.DataFrame'>\n"
     ]
    }
   ],
   "source": [
    "li = [[1,2,3],[4,5,6]]\n",
    "j = pd.DataFrame(li,index=['list1','list2'])\n",
    "print(j)\n",
    "print(type(j))"
   ]
  },
  {
   "cell_type": "code",
   "execution_count": 27,
   "id": "fb72f2ca-7483-4337-a669-18505403bd94",
   "metadata": {},
   "outputs": [
    {
     "data": {
      "text/html": [
       "<div>\n",
       "<style scoped>\n",
       "    .dataframe tbody tr th:only-of-type {\n",
       "        vertical-align: middle;\n",
       "    }\n",
       "\n",
       "    .dataframe tbody tr th {\n",
       "        vertical-align: top;\n",
       "    }\n",
       "\n",
       "    .dataframe thead th {\n",
       "        text-align: right;\n",
       "    }\n",
       "</style>\n",
       "<table border=\"1\" class=\"dataframe\">\n",
       "  <thead>\n",
       "    <tr style=\"text-align: right;\">\n",
       "      <th></th>\n",
       "      <th>k1</th>\n",
       "      <th>k2</th>\n",
       "      <th>k3</th>\n",
       "    </tr>\n",
       "  </thead>\n",
       "  <tbody>\n",
       "    <tr>\n",
       "      <th>1</th>\n",
       "      <td>h1</td>\n",
       "      <td>h2</td>\n",
       "      <td>h3</td>\n",
       "    </tr>\n",
       "    <tr>\n",
       "      <th>2</th>\n",
       "      <td>h1</td>\n",
       "      <td>h2</td>\n",
       "      <td>h3</td>\n",
       "    </tr>\n",
       "    <tr>\n",
       "      <th>3</th>\n",
       "      <td>h1</td>\n",
       "      <td>h2</td>\n",
       "      <td>h3</td>\n",
       "    </tr>\n",
       "  </tbody>\n",
       "</table>\n",
       "</div>"
      ],
      "text/plain": [
       "   k1  k2  k3\n",
       "1  h1  h2  h3\n",
       "2  h1  h2  h3\n",
       "3  h1  h2  h3"
      ]
     },
     "execution_count": 27,
     "metadata": {},
     "output_type": "execute_result"
    }
   ],
   "source": [
    "d = {'k1':'h1','k2':'h2','k3':'h3'}\n",
    "pd.DataFrame(d,index=[1,2,3])"
   ]
  },
  {
   "cell_type": "code",
   "execution_count": 33,
   "id": "1c9b6d7b-4089-4086-9262-7fc7434e2dfd",
   "metadata": {},
   "outputs": [
    {
     "name": "stdout",
     "output_type": "stream",
     "text": [
      "       Name  Marks   ID\n",
      "std1   raju     90  101\n",
      "std2   ravi     89  102\n",
      "std3   rani     94  103\n",
      "std4  vamsi    100  104\n"
     ]
    }
   ],
   "source": [
    "dic = {'Name':['raju','ravi','rani','vamsi'],\n",
    "      'Marks':[90,89,94,100],'ID':[101,102,103,104]}\n",
    "df1 = pd.DataFrame(dic,index = ['std1','std2','std3','std4'])\n",
    "print(df1)"
   ]
  },
  {
   "cell_type": "code",
   "execution_count": 30,
   "id": "bef460d4-5afe-4acc-9f15-094ebb454bf1",
   "metadata": {},
   "outputs": [
    {
     "name": "stdout",
     "output_type": "stream",
     "text": [
      "[[23 45 77]\n",
      " [44 78 28]] <class 'numpy.ndarray'>\n",
      "    0   1   2\n",
      "0  23  45  77\n",
      "1  44  78  28 <class 'pandas.core.frame.DataFrame'>\n"
     ]
    }
   ],
   "source": [
    "# creation \n",
    "import numpy as np\n",
    "import pandas as pd\n",
    "k = np.array([[23,45,77],[44,78,28]])\n",
    "print(k,type(k))\n",
    "j = pd.DataFrame(k)\n",
    "print(j,type(j))"
   ]
  },
  {
   "cell_type": "code",
   "execution_count": 34,
   "id": "57bf4960-52e4-403d-8248-524f62b83cbb",
   "metadata": {},
   "outputs": [
    {
     "name": "stdout",
     "output_type": "stream",
     "text": [
      "       Name  Marks   ID\n",
      "std1   raju     90  101\n",
      "std2   ravi     89  102\n",
      "std3   rani     94  103\n",
      "std4  vamsi    100  104\n"
     ]
    }
   ],
   "source": [
    "print(df1)"
   ]
  },
  {
   "cell_type": "code",
   "execution_count": 36,
   "id": "3ed211b8-a540-48e5-8556-9405e35c0c08",
   "metadata": {},
   "outputs": [
    {
     "data": {
      "text/plain": [
       "Index(['Name', 'Marks', 'ID'], dtype='object')"
      ]
     },
     "execution_count": 36,
     "metadata": {},
     "output_type": "execute_result"
    }
   ],
   "source": [
    "# to get only columns\n",
    "df1.columns"
   ]
  },
  {
   "cell_type": "code",
   "execution_count": 37,
   "id": "3cb33d23-5869-43ff-b602-e7cf20dcf9be",
   "metadata": {},
   "outputs": [
    {
     "name": "stdout",
     "output_type": "stream",
     "text": [
      "4\n"
     ]
    }
   ],
   "source": [
    "# to get no of records\n",
    "print(len(df1.values))"
   ]
  },
  {
   "cell_type": "code",
   "execution_count": 38,
   "id": "89917cfc-e7ad-4687-8974-a24e3cc557df",
   "metadata": {},
   "outputs": [
    {
     "data": {
      "text/plain": [
       "array([['raju', 90, 101],\n",
       "       ['ravi', 89, 102],\n",
       "       ['rani', 94, 103],\n",
       "       ['vamsi', 100, 104]], dtype=object)"
      ]
     },
     "execution_count": 38,
     "metadata": {},
     "output_type": "execute_result"
    }
   ],
   "source": [
    "# to get the row values\n",
    "df1.values"
   ]
  },
  {
   "cell_type": "code",
   "execution_count": 41,
   "id": "e65cb276-31b6-4fc1-9cfd-5511e63d6385",
   "metadata": {},
   "outputs": [
    {
     "name": "stdout",
     "output_type": "stream",
     "text": [
      "Index(['std1', 'std2', 'std3', 'std4'], dtype='object')\n"
     ]
    }
   ],
   "source": [
    "# to get the index positions\n",
    "print(df1.index)"
   ]
  },
  {
   "cell_type": "code",
   "execution_count": 42,
   "id": "655144e3-f912-4a35-a7eb-5ac2c3c4b327",
   "metadata": {},
   "outputs": [
    {
     "name": "stdout",
     "output_type": "stream",
     "text": [
      "(4, 3)\n"
     ]
    }
   ],
   "source": [
    "# to get no of rows and no of columns\n",
    "print(df1.shape)"
   ]
  },
  {
   "cell_type": "code",
   "execution_count": 45,
   "id": "fe9edf00-f468-4509-a9c6-5658c5792f45",
   "metadata": {},
   "outputs": [
    {
     "name": "stdout",
     "output_type": "stream",
     "text": [
      "std1     raju\n",
      "std2     ravi\n",
      "std3     rani\n",
      "std4    vamsi\n",
      "Name: Name, dtype: object\n"
     ]
    }
   ],
   "source": [
    "print(df1['Name'])"
   ]
  },
  {
   "cell_type": "code",
   "execution_count": 46,
   "id": "32390841-9abf-4e59-a684-367adf2de23d",
   "metadata": {},
   "outputs": [
    {
     "name": "stdout",
     "output_type": "stream",
     "text": [
      "std1     90\n",
      "std2     89\n",
      "std3     94\n",
      "std4    100\n",
      "Name: Marks, dtype: int64\n"
     ]
    }
   ],
   "source": [
    "print(df1['Marks'])"
   ]
  },
  {
   "cell_type": "code",
   "execution_count": 48,
   "id": "ff2106e2-5231-4dd3-b9b8-1bf839f191b7",
   "metadata": {},
   "outputs": [
    {
     "name": "stdout",
     "output_type": "stream",
     "text": [
      "      Marks   ID\n",
      "std1     90  101\n",
      "std2     89  102\n",
      "std3     94  103\n",
      "std4    100  104\n"
     ]
    }
   ],
   "source": [
    "print(df1[['Marks','ID']])"
   ]
  },
  {
   "cell_type": "code",
   "execution_count": 49,
   "id": "b1085a9f-437f-4a94-ad33-731125f8a82f",
   "metadata": {},
   "outputs": [
    {
     "data": {
      "text/html": [
       "<div>\n",
       "<style scoped>\n",
       "    .dataframe tbody tr th:only-of-type {\n",
       "        vertical-align: middle;\n",
       "    }\n",
       "\n",
       "    .dataframe tbody tr th {\n",
       "        vertical-align: top;\n",
       "    }\n",
       "\n",
       "    .dataframe thead th {\n",
       "        text-align: right;\n",
       "    }\n",
       "</style>\n",
       "<table border=\"1\" class=\"dataframe\">\n",
       "  <thead>\n",
       "    <tr style=\"text-align: right;\">\n",
       "      <th></th>\n",
       "      <th>Name</th>\n",
       "      <th>Marks</th>\n",
       "      <th>ID</th>\n",
       "    </tr>\n",
       "  </thead>\n",
       "  <tbody>\n",
       "    <tr>\n",
       "      <th>std1</th>\n",
       "      <td>raju</td>\n",
       "      <td>90</td>\n",
       "      <td>101</td>\n",
       "    </tr>\n",
       "    <tr>\n",
       "      <th>std2</th>\n",
       "      <td>ravi</td>\n",
       "      <td>89</td>\n",
       "      <td>102</td>\n",
       "    </tr>\n",
       "    <tr>\n",
       "      <th>std3</th>\n",
       "      <td>rani</td>\n",
       "      <td>94</td>\n",
       "      <td>103</td>\n",
       "    </tr>\n",
       "    <tr>\n",
       "      <th>std4</th>\n",
       "      <td>vamsi</td>\n",
       "      <td>100</td>\n",
       "      <td>104</td>\n",
       "    </tr>\n",
       "  </tbody>\n",
       "</table>\n",
       "</div>"
      ],
      "text/plain": [
       "       Name  Marks   ID\n",
       "std1   raju     90  101\n",
       "std2   ravi     89  102\n",
       "std3   rani     94  103\n",
       "std4  vamsi    100  104"
      ]
     },
     "execution_count": 49,
     "metadata": {},
     "output_type": "execute_result"
    }
   ],
   "source": [
    "# head()   - to get first 5 records\n",
    "df1.head()"
   ]
  },
  {
   "cell_type": "code",
   "execution_count": 50,
   "id": "57f27c3b-664d-4db5-9c7f-e3cc5e79684f",
   "metadata": {},
   "outputs": [
    {
     "data": {
      "text/html": [
       "<div>\n",
       "<style scoped>\n",
       "    .dataframe tbody tr th:only-of-type {\n",
       "        vertical-align: middle;\n",
       "    }\n",
       "\n",
       "    .dataframe tbody tr th {\n",
       "        vertical-align: top;\n",
       "    }\n",
       "\n",
       "    .dataframe thead th {\n",
       "        text-align: right;\n",
       "    }\n",
       "</style>\n",
       "<table border=\"1\" class=\"dataframe\">\n",
       "  <thead>\n",
       "    <tr style=\"text-align: right;\">\n",
       "      <th></th>\n",
       "      <th>Name</th>\n",
       "      <th>Marks</th>\n",
       "      <th>ID</th>\n",
       "    </tr>\n",
       "  </thead>\n",
       "  <tbody>\n",
       "    <tr>\n",
       "      <th>std1</th>\n",
       "      <td>raju</td>\n",
       "      <td>90</td>\n",
       "      <td>101</td>\n",
       "    </tr>\n",
       "    <tr>\n",
       "      <th>std2</th>\n",
       "      <td>ravi</td>\n",
       "      <td>89</td>\n",
       "      <td>102</td>\n",
       "    </tr>\n",
       "  </tbody>\n",
       "</table>\n",
       "</div>"
      ],
      "text/plain": [
       "      Name  Marks   ID\n",
       "std1  raju     90  101\n",
       "std2  ravi     89  102"
      ]
     },
     "execution_count": 50,
     "metadata": {},
     "output_type": "execute_result"
    }
   ],
   "source": [
    "df1.head(2)"
   ]
  },
  {
   "cell_type": "code",
   "execution_count": 51,
   "id": "1b9370cf-ad9d-4b3f-add6-147c99c0eb1e",
   "metadata": {},
   "outputs": [
    {
     "data": {
      "text/html": [
       "<div>\n",
       "<style scoped>\n",
       "    .dataframe tbody tr th:only-of-type {\n",
       "        vertical-align: middle;\n",
       "    }\n",
       "\n",
       "    .dataframe tbody tr th {\n",
       "        vertical-align: top;\n",
       "    }\n",
       "\n",
       "    .dataframe thead th {\n",
       "        text-align: right;\n",
       "    }\n",
       "</style>\n",
       "<table border=\"1\" class=\"dataframe\">\n",
       "  <thead>\n",
       "    <tr style=\"text-align: right;\">\n",
       "      <th></th>\n",
       "      <th>Name</th>\n",
       "      <th>Marks</th>\n",
       "      <th>ID</th>\n",
       "    </tr>\n",
       "  </thead>\n",
       "  <tbody>\n",
       "    <tr>\n",
       "      <th>std1</th>\n",
       "      <td>raju</td>\n",
       "      <td>90</td>\n",
       "      <td>101</td>\n",
       "    </tr>\n",
       "  </tbody>\n",
       "</table>\n",
       "</div>"
      ],
      "text/plain": [
       "      Name  Marks   ID\n",
       "std1  raju     90  101"
      ]
     },
     "execution_count": 51,
     "metadata": {},
     "output_type": "execute_result"
    }
   ],
   "source": [
    "df1.head(1)"
   ]
  },
  {
   "cell_type": "code",
   "execution_count": 52,
   "id": "8bfb2ecf-33f0-4900-80a7-6c5d078e86ca",
   "metadata": {},
   "outputs": [
    {
     "data": {
      "text/html": [
       "<div>\n",
       "<style scoped>\n",
       "    .dataframe tbody tr th:only-of-type {\n",
       "        vertical-align: middle;\n",
       "    }\n",
       "\n",
       "    .dataframe tbody tr th {\n",
       "        vertical-align: top;\n",
       "    }\n",
       "\n",
       "    .dataframe thead th {\n",
       "        text-align: right;\n",
       "    }\n",
       "</style>\n",
       "<table border=\"1\" class=\"dataframe\">\n",
       "  <thead>\n",
       "    <tr style=\"text-align: right;\">\n",
       "      <th></th>\n",
       "      <th>Name</th>\n",
       "      <th>Marks</th>\n",
       "      <th>ID</th>\n",
       "    </tr>\n",
       "  </thead>\n",
       "  <tbody>\n",
       "    <tr>\n",
       "      <th>std1</th>\n",
       "      <td>raju</td>\n",
       "      <td>90</td>\n",
       "      <td>101</td>\n",
       "    </tr>\n",
       "    <tr>\n",
       "      <th>std2</th>\n",
       "      <td>ravi</td>\n",
       "      <td>89</td>\n",
       "      <td>102</td>\n",
       "    </tr>\n",
       "    <tr>\n",
       "      <th>std3</th>\n",
       "      <td>rani</td>\n",
       "      <td>94</td>\n",
       "      <td>103</td>\n",
       "    </tr>\n",
       "    <tr>\n",
       "      <th>std4</th>\n",
       "      <td>vamsi</td>\n",
       "      <td>100</td>\n",
       "      <td>104</td>\n",
       "    </tr>\n",
       "  </tbody>\n",
       "</table>\n",
       "</div>"
      ],
      "text/plain": [
       "       Name  Marks   ID\n",
       "std1   raju     90  101\n",
       "std2   ravi     89  102\n",
       "std3   rani     94  103\n",
       "std4  vamsi    100  104"
      ]
     },
     "execution_count": 52,
     "metadata": {},
     "output_type": "execute_result"
    }
   ],
   "source": [
    "df1.tail()"
   ]
  },
  {
   "cell_type": "code",
   "execution_count": 53,
   "id": "23069b9a-bfc6-4716-86a8-d51111205505",
   "metadata": {},
   "outputs": [
    {
     "data": {
      "text/html": [
       "<div>\n",
       "<style scoped>\n",
       "    .dataframe tbody tr th:only-of-type {\n",
       "        vertical-align: middle;\n",
       "    }\n",
       "\n",
       "    .dataframe tbody tr th {\n",
       "        vertical-align: top;\n",
       "    }\n",
       "\n",
       "    .dataframe thead th {\n",
       "        text-align: right;\n",
       "    }\n",
       "</style>\n",
       "<table border=\"1\" class=\"dataframe\">\n",
       "  <thead>\n",
       "    <tr style=\"text-align: right;\">\n",
       "      <th></th>\n",
       "      <th>Name</th>\n",
       "      <th>Marks</th>\n",
       "      <th>ID</th>\n",
       "    </tr>\n",
       "  </thead>\n",
       "  <tbody>\n",
       "    <tr>\n",
       "      <th>std4</th>\n",
       "      <td>vamsi</td>\n",
       "      <td>100</td>\n",
       "      <td>104</td>\n",
       "    </tr>\n",
       "  </tbody>\n",
       "</table>\n",
       "</div>"
      ],
      "text/plain": [
       "       Name  Marks   ID\n",
       "std4  vamsi    100  104"
      ]
     },
     "execution_count": 53,
     "metadata": {},
     "output_type": "execute_result"
    }
   ],
   "source": [
    "df1.tail(1)"
   ]
  },
  {
   "cell_type": "code",
   "execution_count": 54,
   "id": "d16ead0b-e403-464d-8df8-2235457cb711",
   "metadata": {},
   "outputs": [
    {
     "data": {
      "text/html": [
       "<div>\n",
       "<style scoped>\n",
       "    .dataframe tbody tr th:only-of-type {\n",
       "        vertical-align: middle;\n",
       "    }\n",
       "\n",
       "    .dataframe tbody tr th {\n",
       "        vertical-align: top;\n",
       "    }\n",
       "\n",
       "    .dataframe thead th {\n",
       "        text-align: right;\n",
       "    }\n",
       "</style>\n",
       "<table border=\"1\" class=\"dataframe\">\n",
       "  <thead>\n",
       "    <tr style=\"text-align: right;\">\n",
       "      <th></th>\n",
       "      <th>Name</th>\n",
       "      <th>Marks</th>\n",
       "      <th>ID</th>\n",
       "    </tr>\n",
       "  </thead>\n",
       "  <tbody>\n",
       "    <tr>\n",
       "      <th>std3</th>\n",
       "      <td>rani</td>\n",
       "      <td>94</td>\n",
       "      <td>103</td>\n",
       "    </tr>\n",
       "    <tr>\n",
       "      <th>std4</th>\n",
       "      <td>vamsi</td>\n",
       "      <td>100</td>\n",
       "      <td>104</td>\n",
       "    </tr>\n",
       "  </tbody>\n",
       "</table>\n",
       "</div>"
      ],
      "text/plain": [
       "       Name  Marks   ID\n",
       "std3   rani     94  103\n",
       "std4  vamsi    100  104"
      ]
     },
     "execution_count": 54,
     "metadata": {},
     "output_type": "execute_result"
    }
   ],
   "source": [
    "df1.tail(2)"
   ]
  },
  {
   "cell_type": "code",
   "execution_count": 62,
   "id": "0cd6cee0-f60a-4ac5-b8fe-9ca9f3fd34c4",
   "metadata": {},
   "outputs": [
    {
     "name": "stdout",
     "output_type": "stream",
     "text": [
      "       Name  Marks   ID\n",
      "std1   raju     90  101\n",
      "std2   ravi     89  102\n",
      "std3   rani     94  103\n",
      "std4  vamsi    100  104\n",
      "4      sony     78  105\n",
      "5      sony     78  105\n",
      "8      sony     78  105\n",
      "6      sony     78  105\n"
     ]
    }
   ],
   "source": [
    "# to adding new record to the data frame\n",
    "df1.loc[4]=['sony',78,105]\n",
    "print(df1)"
   ]
  },
  {
   "cell_type": "code",
   "execution_count": 64,
   "id": "25555d39-f788-4abe-b936-0d1201d6fe68",
   "metadata": {},
   "outputs": [
    {
     "data": {
      "text/html": [
       "<div>\n",
       "<style scoped>\n",
       "    .dataframe tbody tr th:only-of-type {\n",
       "        vertical-align: middle;\n",
       "    }\n",
       "\n",
       "    .dataframe tbody tr th {\n",
       "        vertical-align: top;\n",
       "    }\n",
       "\n",
       "    .dataframe thead th {\n",
       "        text-align: right;\n",
       "    }\n",
       "</style>\n",
       "<table border=\"1\" class=\"dataframe\">\n",
       "  <thead>\n",
       "    <tr style=\"text-align: right;\">\n",
       "      <th></th>\n",
       "      <th>Name</th>\n",
       "      <th>Marks</th>\n",
       "      <th>ID</th>\n",
       "      <th>Branch</th>\n",
       "    </tr>\n",
       "  </thead>\n",
       "  <tbody>\n",
       "    <tr>\n",
       "      <th>std1</th>\n",
       "      <td>raju</td>\n",
       "      <td>90</td>\n",
       "      <td>101</td>\n",
       "      <td>ece</td>\n",
       "    </tr>\n",
       "    <tr>\n",
       "      <th>std2</th>\n",
       "      <td>ravi</td>\n",
       "      <td>89</td>\n",
       "      <td>102</td>\n",
       "      <td>cse</td>\n",
       "    </tr>\n",
       "    <tr>\n",
       "      <th>std3</th>\n",
       "      <td>rani</td>\n",
       "      <td>94</td>\n",
       "      <td>103</td>\n",
       "      <td>mech</td>\n",
       "    </tr>\n",
       "    <tr>\n",
       "      <th>std4</th>\n",
       "      <td>vamsi</td>\n",
       "      <td>100</td>\n",
       "      <td>104</td>\n",
       "      <td>civil</td>\n",
       "    </tr>\n",
       "    <tr>\n",
       "      <th>4</th>\n",
       "      <td>sony</td>\n",
       "      <td>78</td>\n",
       "      <td>105</td>\n",
       "      <td>eee</td>\n",
       "    </tr>\n",
       "    <tr>\n",
       "      <th>5</th>\n",
       "      <td>sony</td>\n",
       "      <td>78</td>\n",
       "      <td>105</td>\n",
       "      <td>ece</td>\n",
       "    </tr>\n",
       "    <tr>\n",
       "      <th>8</th>\n",
       "      <td>sony</td>\n",
       "      <td>78</td>\n",
       "      <td>105</td>\n",
       "      <td>cse</td>\n",
       "    </tr>\n",
       "    <tr>\n",
       "      <th>6</th>\n",
       "      <td>sony</td>\n",
       "      <td>78</td>\n",
       "      <td>105</td>\n",
       "      <td>mech</td>\n",
       "    </tr>\n",
       "  </tbody>\n",
       "</table>\n",
       "</div>"
      ],
      "text/plain": [
       "       Name  Marks   ID Branch\n",
       "std1   raju     90  101    ece\n",
       "std2   ravi     89  102    cse\n",
       "std3   rani     94  103   mech\n",
       "std4  vamsi    100  104  civil\n",
       "4      sony     78  105    eee\n",
       "5      sony     78  105    ece\n",
       "8      sony     78  105    cse\n",
       "6      sony     78  105   mech"
      ]
     },
     "execution_count": 64,
     "metadata": {},
     "output_type": "execute_result"
    }
   ],
   "source": [
    "# to add new column\n",
    "df1['Branch']=['ece','cse','mech','civil','eee','ece','cse','mech']\n",
    "df1"
   ]
  },
  {
   "cell_type": "code",
   "execution_count": 66,
   "id": "fd4ec9d0-2f95-4851-9133-246a3c551fbf",
   "metadata": {},
   "outputs": [
    {
     "data": {
      "text/html": [
       "<div>\n",
       "<style scoped>\n",
       "    .dataframe tbody tr th:only-of-type {\n",
       "        vertical-align: middle;\n",
       "    }\n",
       "\n",
       "    .dataframe tbody tr th {\n",
       "        vertical-align: top;\n",
       "    }\n",
       "\n",
       "    .dataframe thead th {\n",
       "        text-align: right;\n",
       "    }\n",
       "</style>\n",
       "<table border=\"1\" class=\"dataframe\">\n",
       "  <thead>\n",
       "    <tr style=\"text-align: right;\">\n",
       "      <th></th>\n",
       "      <th>Name</th>\n",
       "      <th>Marks</th>\n",
       "      <th>ID</th>\n",
       "      <th>Branch</th>\n",
       "    </tr>\n",
       "  </thead>\n",
       "  <tbody>\n",
       "    <tr>\n",
       "      <th>std1</th>\n",
       "      <td>raju</td>\n",
       "      <td>90</td>\n",
       "      <td>101</td>\n",
       "      <td>ece</td>\n",
       "    </tr>\n",
       "    <tr>\n",
       "      <th>std2</th>\n",
       "      <td>ravi</td>\n",
       "      <td>89</td>\n",
       "      <td>102</td>\n",
       "      <td>cse</td>\n",
       "    </tr>\n",
       "    <tr>\n",
       "      <th>std3</th>\n",
       "      <td>rani</td>\n",
       "      <td>94</td>\n",
       "      <td>103</td>\n",
       "      <td>mech</td>\n",
       "    </tr>\n",
       "    <tr>\n",
       "      <th>std4</th>\n",
       "      <td>vamsi</td>\n",
       "      <td>100</td>\n",
       "      <td>104</td>\n",
       "      <td>Arts</td>\n",
       "    </tr>\n",
       "    <tr>\n",
       "      <th>4</th>\n",
       "      <td>sony</td>\n",
       "      <td>78</td>\n",
       "      <td>105</td>\n",
       "      <td>eee</td>\n",
       "    </tr>\n",
       "    <tr>\n",
       "      <th>5</th>\n",
       "      <td>sony</td>\n",
       "      <td>78</td>\n",
       "      <td>105</td>\n",
       "      <td>ece</td>\n",
       "    </tr>\n",
       "    <tr>\n",
       "      <th>8</th>\n",
       "      <td>sony</td>\n",
       "      <td>78</td>\n",
       "      <td>105</td>\n",
       "      <td>cse</td>\n",
       "    </tr>\n",
       "    <tr>\n",
       "      <th>6</th>\n",
       "      <td>sony</td>\n",
       "      <td>78</td>\n",
       "      <td>105</td>\n",
       "      <td>mech</td>\n",
       "    </tr>\n",
       "  </tbody>\n",
       "</table>\n",
       "</div>"
      ],
      "text/plain": [
       "       Name  Marks   ID Branch\n",
       "std1   raju     90  101    ece\n",
       "std2   ravi     89  102    cse\n",
       "std3   rani     94  103   mech\n",
       "std4  vamsi    100  104   Arts\n",
       "4      sony     78  105    eee\n",
       "5      sony     78  105    ece\n",
       "8      sony     78  105    cse\n",
       "6      sony     78  105   mech"
      ]
     },
     "execution_count": 66,
     "metadata": {},
     "output_type": "execute_result"
    }
   ],
   "source": [
    "# particular value update in DATAFRAME\n",
    "df1.loc['std4','Branch']='Arts'\n",
    "df1"
   ]
  },
  {
   "cell_type": "code",
   "execution_count": 67,
   "id": "b6d2748a-dfa9-4def-999f-ab3e24877ee7",
   "metadata": {},
   "outputs": [
    {
     "data": {
      "text/plain": [
       "Name      ravi\n",
       "Marks       89\n",
       "ID         102\n",
       "Branch     cse\n",
       "Name: std2, dtype: object"
      ]
     },
     "execution_count": 67,
     "metadata": {},
     "output_type": "execute_result"
    }
   ],
   "source": [
    "# to get particular record details\n",
    "df1.loc['std2']"
   ]
  },
  {
   "cell_type": "code",
   "execution_count": 68,
   "id": "f0088677-0661-4b56-8f31-4f5c9c204641",
   "metadata": {},
   "outputs": [
    {
     "data": {
      "text/plain": [
       "Name      sony\n",
       "Marks       78\n",
       "ID         105\n",
       "Branch     eee\n",
       "Name: 4, dtype: object"
      ]
     },
     "execution_count": 68,
     "metadata": {},
     "output_type": "execute_result"
    }
   ],
   "source": [
    "df1.loc[4]"
   ]
  },
  {
   "cell_type": "code",
   "execution_count": 75,
   "id": "2efa8ffb-19cf-46b7-8c90-1af110121149",
   "metadata": {},
   "outputs": [
    {
     "name": "stdout",
     "output_type": "stream",
     "text": [
      "       Name  Marks Branch\n",
      "std1   raju     90    ece\n",
      "std2   ravi     89    cse\n",
      "std3   rani     94   mech\n",
      "std4  vamsi    100   Arts\n",
      "5      sony     78    ece\n",
      "6      sony     78   mech\n"
     ]
    }
   ],
   "source": [
    "# how to delete particular row or column  -  drop()\n",
    "# row wise ---- axis = 0\n",
    "# column wise ---- axis = 1\n",
    "print(df1)"
   ]
  },
  {
   "cell_type": "code",
   "execution_count": 73,
   "id": "ff45ac59-9a7f-4726-aab8-92689c2609e4",
   "metadata": {},
   "outputs": [
    {
     "data": {
      "text/html": [
       "<div>\n",
       "<style scoped>\n",
       "    .dataframe tbody tr th:only-of-type {\n",
       "        vertical-align: middle;\n",
       "    }\n",
       "\n",
       "    .dataframe tbody tr th {\n",
       "        vertical-align: top;\n",
       "    }\n",
       "\n",
       "    .dataframe thead th {\n",
       "        text-align: right;\n",
       "    }\n",
       "</style>\n",
       "<table border=\"1\" class=\"dataframe\">\n",
       "  <thead>\n",
       "    <tr style=\"text-align: right;\">\n",
       "      <th></th>\n",
       "      <th>Name</th>\n",
       "      <th>Marks</th>\n",
       "      <th>ID</th>\n",
       "      <th>Branch</th>\n",
       "    </tr>\n",
       "  </thead>\n",
       "  <tbody>\n",
       "    <tr>\n",
       "      <th>std1</th>\n",
       "      <td>raju</td>\n",
       "      <td>90</td>\n",
       "      <td>101</td>\n",
       "      <td>ece</td>\n",
       "    </tr>\n",
       "    <tr>\n",
       "      <th>std2</th>\n",
       "      <td>ravi</td>\n",
       "      <td>89</td>\n",
       "      <td>102</td>\n",
       "      <td>cse</td>\n",
       "    </tr>\n",
       "    <tr>\n",
       "      <th>std3</th>\n",
       "      <td>rani</td>\n",
       "      <td>94</td>\n",
       "      <td>103</td>\n",
       "      <td>mech</td>\n",
       "    </tr>\n",
       "    <tr>\n",
       "      <th>std4</th>\n",
       "      <td>vamsi</td>\n",
       "      <td>100</td>\n",
       "      <td>104</td>\n",
       "      <td>Arts</td>\n",
       "    </tr>\n",
       "    <tr>\n",
       "      <th>5</th>\n",
       "      <td>sony</td>\n",
       "      <td>78</td>\n",
       "      <td>105</td>\n",
       "      <td>ece</td>\n",
       "    </tr>\n",
       "    <tr>\n",
       "      <th>6</th>\n",
       "      <td>sony</td>\n",
       "      <td>78</td>\n",
       "      <td>105</td>\n",
       "      <td>mech</td>\n",
       "    </tr>\n",
       "  </tbody>\n",
       "</table>\n",
       "</div>"
      ],
      "text/plain": [
       "       Name  Marks   ID Branch\n",
       "std1   raju     90  101    ece\n",
       "std2   ravi     89  102    cse\n",
       "std3   rani     94  103   mech\n",
       "std4  vamsi    100  104   Arts\n",
       "5      sony     78  105    ece\n",
       "6      sony     78  105   mech"
      ]
     },
     "execution_count": 73,
     "metadata": {},
     "output_type": "execute_result"
    }
   ],
   "source": [
    "# how o delete particular row\n",
    "df1 = df1.drop(8,axis=0)\n",
    "df1"
   ]
  },
  {
   "cell_type": "code",
   "execution_count": 74,
   "id": "7dbc1acd-9c8c-4e35-aa8d-338c3d0b7087",
   "metadata": {},
   "outputs": [
    {
     "data": {
      "text/html": [
       "<div>\n",
       "<style scoped>\n",
       "    .dataframe tbody tr th:only-of-type {\n",
       "        vertical-align: middle;\n",
       "    }\n",
       "\n",
       "    .dataframe tbody tr th {\n",
       "        vertical-align: top;\n",
       "    }\n",
       "\n",
       "    .dataframe thead th {\n",
       "        text-align: right;\n",
       "    }\n",
       "</style>\n",
       "<table border=\"1\" class=\"dataframe\">\n",
       "  <thead>\n",
       "    <tr style=\"text-align: right;\">\n",
       "      <th></th>\n",
       "      <th>Name</th>\n",
       "      <th>Marks</th>\n",
       "      <th>Branch</th>\n",
       "    </tr>\n",
       "  </thead>\n",
       "  <tbody>\n",
       "    <tr>\n",
       "      <th>std1</th>\n",
       "      <td>raju</td>\n",
       "      <td>90</td>\n",
       "      <td>ece</td>\n",
       "    </tr>\n",
       "    <tr>\n",
       "      <th>std2</th>\n",
       "      <td>ravi</td>\n",
       "      <td>89</td>\n",
       "      <td>cse</td>\n",
       "    </tr>\n",
       "    <tr>\n",
       "      <th>std3</th>\n",
       "      <td>rani</td>\n",
       "      <td>94</td>\n",
       "      <td>mech</td>\n",
       "    </tr>\n",
       "    <tr>\n",
       "      <th>std4</th>\n",
       "      <td>vamsi</td>\n",
       "      <td>100</td>\n",
       "      <td>Arts</td>\n",
       "    </tr>\n",
       "    <tr>\n",
       "      <th>5</th>\n",
       "      <td>sony</td>\n",
       "      <td>78</td>\n",
       "      <td>ece</td>\n",
       "    </tr>\n",
       "    <tr>\n",
       "      <th>6</th>\n",
       "      <td>sony</td>\n",
       "      <td>78</td>\n",
       "      <td>mech</td>\n",
       "    </tr>\n",
       "  </tbody>\n",
       "</table>\n",
       "</div>"
      ],
      "text/plain": [
       "       Name  Marks Branch\n",
       "std1   raju     90    ece\n",
       "std2   ravi     89    cse\n",
       "std3   rani     94   mech\n",
       "std4  vamsi    100   Arts\n",
       "5      sony     78    ece\n",
       "6      sony     78   mech"
      ]
     },
     "execution_count": 74,
     "metadata": {},
     "output_type": "execute_result"
    }
   ],
   "source": [
    "# paticular column delete\n",
    "df1 = df1.drop('ID',axis = 1)\n",
    "df1"
   ]
  },
  {
   "cell_type": "code",
   "execution_count": 80,
   "id": "69f7c84e-390d-4366-b25f-43dfb6bb8b5e",
   "metadata": {},
   "outputs": [
    {
     "data": {
      "text/html": [
       "<div>\n",
       "<style scoped>\n",
       "    .dataframe tbody tr th:only-of-type {\n",
       "        vertical-align: middle;\n",
       "    }\n",
       "\n",
       "    .dataframe tbody tr th {\n",
       "        vertical-align: top;\n",
       "    }\n",
       "\n",
       "    .dataframe thead th {\n",
       "        text-align: right;\n",
       "    }\n",
       "</style>\n",
       "<table border=\"1\" class=\"dataframe\">\n",
       "  <thead>\n",
       "    <tr style=\"text-align: right;\">\n",
       "      <th></th>\n",
       "      <th>Name</th>\n",
       "      <th>MARKS</th>\n",
       "      <th>Branch</th>\n",
       "    </tr>\n",
       "  </thead>\n",
       "  <tbody>\n",
       "  </tbody>\n",
       "</table>\n",
       "</div>"
      ],
      "text/plain": [
       "Empty DataFrame\n",
       "Columns: [Name, MARKS, Branch]\n",
       "Index: []"
      ]
     },
     "execution_count": 80,
     "metadata": {},
     "output_type": "execute_result"
    }
   ],
   "source": [
    "# to remove the particular single column name\n",
    "df1.rename(columns={'Marks':'MARKS'},inplace=True)\n",
    "df1"
   ]
  },
  {
   "cell_type": "code",
   "execution_count": 79,
   "id": "e46496c1-f838-4af1-a536-b2b4be001f5e",
   "metadata": {},
   "outputs": [
    {
     "data": {
      "text/html": [
       "<div>\n",
       "<style scoped>\n",
       "    .dataframe tbody tr th:only-of-type {\n",
       "        vertical-align: middle;\n",
       "    }\n",
       "\n",
       "    .dataframe tbody tr th {\n",
       "        vertical-align: top;\n",
       "    }\n",
       "\n",
       "    .dataframe thead th {\n",
       "        text-align: right;\n",
       "    }\n",
       "</style>\n",
       "<table border=\"1\" class=\"dataframe\">\n",
       "  <thead>\n",
       "    <tr style=\"text-align: right;\">\n",
       "      <th></th>\n",
       "      <th>Name</th>\n",
       "      <th>Marks</th>\n",
       "      <th>Branch</th>\n",
       "    </tr>\n",
       "  </thead>\n",
       "  <tbody>\n",
       "  </tbody>\n",
       "</table>\n",
       "</div>"
      ],
      "text/plain": [
       "Empty DataFrame\n",
       "Columns: [Name, Marks, Branch]\n",
       "Index: []"
      ]
     },
     "execution_count": 79,
     "metadata": {},
     "output_type": "execute_result"
    }
   ],
   "source": [
    "# to delete all records\n",
    "df1.drop(df1.index,inplace=True)\n",
    "df1"
   ]
  },
  {
   "cell_type": "code",
   "execution_count": 81,
   "id": "a9c26ad8-0d22-43f8-848c-cbc7f197f666",
   "metadata": {},
   "outputs": [
    {
     "data": {
      "text/html": [
       "<div>\n",
       "<style scoped>\n",
       "    .dataframe tbody tr th:only-of-type {\n",
       "        vertical-align: middle;\n",
       "    }\n",
       "\n",
       "    .dataframe tbody tr th {\n",
       "        vertical-align: top;\n",
       "    }\n",
       "\n",
       "    .dataframe thead th {\n",
       "        text-align: right;\n",
       "    }\n",
       "</style>\n",
       "<table border=\"1\" class=\"dataframe\">\n",
       "  <thead>\n",
       "    <tr style=\"text-align: right;\">\n",
       "      <th></th>\n",
       "    </tr>\n",
       "  </thead>\n",
       "  <tbody>\n",
       "  </tbody>\n",
       "</table>\n",
       "</div>"
      ],
      "text/plain": [
       "Empty DataFrame\n",
       "Columns: []\n",
       "Index: []"
      ]
     },
     "execution_count": 81,
     "metadata": {},
     "output_type": "execute_result"
    }
   ],
   "source": [
    "# to delete all columns\n",
    "df1.drop(df1.columns,inplace=True,axis=1)\n",
    "df1"
   ]
  },
  {
   "cell_type": "code",
   "execution_count": null,
   "id": "38f12449-0163-40e7-a5fb-9e42dfdc6161",
   "metadata": {},
   "outputs": [],
   "source": []
  }
 ],
 "metadata": {
  "kernelspec": {
   "display_name": "Python 3 (ipykernel)",
   "language": "python",
   "name": "python3"
  },
  "language_info": {
   "codemirror_mode": {
    "name": "ipython",
    "version": 3
   },
   "file_extension": ".py",
   "mimetype": "text/x-python",
   "name": "python",
   "nbconvert_exporter": "python",
   "pygments_lexer": "ipython3",
   "version": "3.12.7"
  }
 },
 "nbformat": 4,
 "nbformat_minor": 5
}
