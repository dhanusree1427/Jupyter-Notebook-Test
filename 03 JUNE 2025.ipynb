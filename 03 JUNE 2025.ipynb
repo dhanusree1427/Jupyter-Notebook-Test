{
 "cells": [
  {
   "cell_type": "markdown",
   "id": "f0f74e2b-bcb3-4392-996f-39393607d57c",
   "metadata": {},
   "source": [
    "### Functional Programming\n",
    "  - It is used to create small functions\n",
    "  - We can call it as single line functions\n",
    "  - Anonymous sunctions"
   ]
  },
  {
   "cell_type": "code",
   "execution_count": null,
   "id": "eded59b0-18a8-4dab-8428-fa04b0e7a52e",
   "metadata": {},
   "outputs": [],
   "source": [
    "1.lambda()\n",
    "    - syntax :- lambda agruments:condition\n",
    "2.map()\n",
    "    - syntax :- map(function,sequence)\n",
    "3.filter()\n",
    "    - syntax :- filter(function,sequence)"
   ]
  },
  {
   "cell_type": "code",
   "execution_count": 1,
   "id": "7f88b2f4-440c-4674-bc92-8be12d84df73",
   "metadata": {},
   "outputs": [
    {
     "name": "stdout",
     "output_type": "stream",
     "text": [
      "9\n"
     ]
    }
   ],
   "source": [
    "# addition of two numbers using functions\n",
    "def add(a,b):\n",
    "    print(a+b)\n",
    "add(3,6)"
   ]
  },
  {
   "cell_type": "code",
   "execution_count": 4,
   "id": "9c5b4608-d2f9-4a08-88a5-74052ef176f8",
   "metadata": {},
   "outputs": [
    {
     "data": {
      "text/plain": [
       "13"
      ]
     },
     "execution_count": 4,
     "metadata": {},
     "output_type": "execute_result"
    }
   ],
   "source": [
    "# addition of 2 numbers using lambda() function\n",
    "k = lambda a,b:a+b   # syntax :- lambda agruments:condition\n",
    "k(8,5) # function calling"
   ]
  },
  {
   "cell_type": "code",
   "execution_count": 5,
   "id": "4affa7b2-cc9a-4477-8c0d-b5c46ac93ef7",
   "metadata": {},
   "outputs": [
    {
     "data": {
      "text/plain": [
       "70"
      ]
     },
     "execution_count": 5,
     "metadata": {},
     "output_type": "execute_result"
    }
   ],
   "source": [
    "# Product of 3 numbers using lambda()\n",
    "j = lambda a,b,c:a*b*c\n",
    "j(2,5,7)"
   ]
  },
  {
   "cell_type": "code",
   "execution_count": 7,
   "id": "894eacc3-491b-4958-b38a-e1daefd2ee02",
   "metadata": {},
   "outputs": [
    {
     "data": {
      "text/plain": [
       "625"
      ]
     },
     "execution_count": 7,
     "metadata": {},
     "output_type": "execute_result"
    }
   ],
   "source": [
    "# square of a number using lambda()\n",
    "square = lambda x:x**2\n",
    "square(25)"
   ]
  },
  {
   "cell_type": "code",
   "execution_count": 8,
   "id": "aa23434e-5c4c-4b30-b8a3-54a8db5ed8df",
   "metadata": {},
   "outputs": [
    {
     "data": {
      "text/plain": [
       "'Even'"
      ]
     },
     "execution_count": 8,
     "metadata": {},
     "output_type": "execute_result"
    }
   ],
   "source": [
    "# lambda with conditional expression\n",
    "ev_odd = lambda x: \"Even\" if x%2==0 else \"Odd\"\n",
    "ev_odd(8)"
   ]
  },
  {
   "cell_type": "markdown",
   "id": "516ba3c7-fecf-4fb7-856f-ddc597ace679",
   "metadata": {},
   "source": [
    "# 2.map()\n",
    "    * syntax :- map(function,sequence)"
   ]
  },
  {
   "cell_type": "code",
   "execution_count": 9,
   "id": "ccbaccd0-f488-42f0-98f9-417f9d160753",
   "metadata": {},
   "outputs": [
    {
     "name": "stdout",
     "output_type": "stream",
     "text": [
      "[4, 16, 25, 49, 64, 81]\n"
     ]
    }
   ],
   "source": [
    "# map()\n",
    "def square(a):\n",
    "    return a*a\n",
    "m = map(square,[2,4,5,7,8,9])\n",
    "print(list(m))"
   ]
  },
  {
   "cell_type": "code",
   "execution_count": 13,
   "id": "24c08237-5e1c-4015-a970-315994b46920",
   "metadata": {},
   "outputs": [
    {
     "name": "stdout",
     "output_type": "stream",
     "text": [
      "['raju', 'rani', 'vamsi', 'ravi']\n"
     ]
    }
   ],
   "source": [
    "# i/p: ['RAJU','RANI','VAMSI','RAVI']\n",
    "# o/p: ['raju','rani','vamsi','ravi']\n",
    "c = ['RAJU','RANI','VAMSI','RAVI']\n",
    "res = list(map(str.lower,c))\n",
    "print(res)"
   ]
  },
  {
   "cell_type": "code",
   "execution_count": 14,
   "id": "01257634-1d39-4b7c-a45a-e267c5c03497",
   "metadata": {},
   "outputs": [
    {
     "name": "stdout",
     "output_type": "stream",
     "text": [
      "[5, 6, 6]\n"
     ]
    }
   ],
   "source": [
    "# calculate length of each word using map\n",
    "words = [\"apple\",\"banana\",\"cherry\"]\n",
    "length = list(map(len,words))\n",
    "print(length)"
   ]
  },
  {
   "cell_type": "code",
   "execution_count": 15,
   "id": "db61bbfa-bb96-4335-9fa7-4fd0cb52617c",
   "metadata": {},
   "outputs": [
    {
     "name": "stdout",
     "output_type": "stream",
     "text": [
      "[5, 7, 9]\n"
     ]
    }
   ],
   "source": [
    "# adding the two lists element wise\n",
    "list1 = [1,2,3]\n",
    "list2 = [4,5,6]\n",
    "sums = list(map(lambda x,y:x+y,list1,list2))\n",
    "print(sums)"
   ]
  },
  {
   "cell_type": "markdown",
   "id": "c93a97bb-e06c-4dde-9b3b-e299819e29d9",
   "metadata": {},
   "source": [
    "# Task  -01\n",
    " 1. convert list of strings to integers\n",
    "       - i/p: ['1','2','3','4','5']\n",
    "       - o/p: [1,2,3,4]"
   ]
  },
  {
   "cell_type": "markdown",
   "id": "54a09683-8b8b-4a60-add5-db42ddfa73d3",
   "metadata": {},
   "source": [
    "# filter()\n",
    "  - Which is used to select items from an iterable based on condition"
   ]
  },
  {
   "cell_type": "code",
   "execution_count": 16,
   "id": "e56574f1-ec84-4c1d-a989-e113ba83d976",
   "metadata": {},
   "outputs": [
    {
     "name": "stdout",
     "output_type": "stream",
     "text": [
      "[2, 4, 6, 8]\n"
     ]
    }
   ],
   "source": [
    "n = [1,2,3,4,5,6,7,8,9]\n",
    "even = list(filter(lambda x:x%2==0,n))\n",
    "print(even)"
   ]
  },
  {
   "cell_type": "markdown",
   "id": "bc3e50c9-97ca-4f64-aee5-fd73e8aaa67f",
   "metadata": {},
   "source": [
    "# Task  -02\n",
    "  1. filter the numbers which is divisible by 5 using filter"
   ]
  },
  {
   "cell_type": "code",
   "execution_count": 17,
   "id": "97e59622-3f09-4ba6-ad41-8e3034236e4f",
   "metadata": {},
   "outputs": [
    {
     "name": "stdout",
     "output_type": "stream",
     "text": [
      "[3, 4, 5, 7, 8, 5]\n"
     ]
    }
   ],
   "source": [
    "# filter positive numbers\n",
    "n1 = [3,4,5,-8,-6,-3,7,8,5]\n",
    "positive = list(filter(lambda x:x>0,n1))\n",
    "print(positive)"
   ]
  },
  {
   "cell_type": "code",
   "execution_count": 18,
   "id": "4baf33e5-0468-44a4-9d28-ae99daf0343a",
   "metadata": {},
   "outputs": [
    {
     "name": "stdout",
     "output_type": "stream",
     "text": [
      "['level', 'mom', 'dad']\n"
     ]
    }
   ],
   "source": [
    "# filter palindromes in a list\n",
    "words = [\"level\",\"mom\",\"dad\",\"week\",\"lambda\",\"map\",\"python\"]\n",
    "palindrom = list(filter(lambda word:word==word[::-1],words))\n",
    "print(palindrom)"
   ]
  },
  {
   "cell_type": "markdown",
   "id": "6aeb0637-6928-4df3-8f2d-0a35ae223696",
   "metadata": {},
   "source": [
    "# Task  -03\n",
    " 1. filter words starting with a specific letter\n",
    "     - i/p: [\"apple\",\"banana\",\"mango\",\"ant\",\"ascii\",\"grape\"]\n",
    "     - o/p: [\"apple\",\"ant\",\"ascii\"]"
   ]
  },
  {
   "cell_type": "code",
   "execution_count": 19,
   "id": "c6eef72e-8685-417d-b8d3-2338e2d82346",
   "metadata": {},
   "outputs": [
    {
     "name": "stdout",
     "output_type": "stream",
     "text": [
      "['apple', 'ant', 'ascii']\n"
     ]
    }
   ],
   "source": [
    "n = [\"apple\",\"banana\",\"mango\",\"ant\",\"ascii\",\"grape\"]\n",
    "m = filter(lambda x:x.startswith(\"a\"),n)\n",
    "print(list(m))"
   ]
  },
  {
   "cell_type": "markdown",
   "id": "0af44593-a1ec-4151-bc4d-e32171fab35b",
   "metadata": {},
   "source": [
    "#  Files and file handling"
   ]
  },
  {
   "cell_type": "markdown",
   "id": "02b21818-968c-4990-b2fd-2e61da30eb6c",
   "metadata": {},
   "source": [
    "# files in python\n",
    "          - By using files we can store data permanently\n",
    "          - format :- .mp3,.mp4,pdf,.ipynb, excel,docu,.jpg,png, .........etc\n",
    "# how to create a text file\n",
    "          1. by using the open() function we can create the text file\n",
    "          2. here open() function takes 2 argumnets\n",
    "                syntax:- file variable_name = open('filename', file mode)\n",
    "\n",
    "# Modes\n",
    "  1. read() :- 'r' ---> Read or view the data in a file\n",
    "  2. write() :- 'w' ---> We can edit, add, rmove, store the data into a text file\n",
    "  3. append() :- 'a' ---> We can add the data without erasing the previous data\n",
    "\n",
    "# How to close the file\n",
    "   - by using the close function we can the file\n",
    "        syntax:- file variable_name.close()"
   ]
  },
  {
   "cell_type": "code",
   "execution_count": 20,
   "id": "efd09ea3-f1e1-496b-9430-852ad4e4c402",
   "metadata": {},
   "outputs": [
    {
     "name": "stdout",
     "output_type": "stream",
     "text": [
      "file created successfully\n"
     ]
    }
   ],
   "source": [
    "# how to create empty text file\n",
    "f1 = open('data1.txt','w')\n",
    "print(\"file created successfully\")\n",
    "f1.close()"
   ]
  },
  {
   "cell_type": "code",
   "execution_count": 21,
   "id": "cea009b1-3dba-42f0-8f9c-7895067c8c33",
   "metadata": {},
   "outputs": [
    {
     "name": "stdout",
     "output_type": "stream",
     "text": [
      "success\n"
     ]
    }
   ],
   "source": [
    "# To store the data into a file using write method\n",
    "f2 = open('data1.txt','w')\n",
    "f2.write('Hello Welcome to python programming internship')\n",
    "f2.close()\n",
    "print('success')"
   ]
  },
  {
   "cell_type": "code",
   "execution_count": null,
   "id": "864cbab9-418e-42a2-b860-a3ccfcc5448e",
   "metadata": {},
   "outputs": [],
   "source": [
    "# file handling methods\n",
    "   1.read()\n",
    "   2.write()\n",
    "   3.append()\n",
    "   4.readline()\n",
    "   5.readlines()\n",
    "   6.seek()\n",
    "   7.tell()\n",
    "   8.split()"
   ]
  },
  {
   "cell_type": "code",
   "execution_count": 23,
   "id": "bd6d5514-8193-425d-b60f-c5e633316db2",
   "metadata": {},
   "outputs": [
    {
     "name": "stdout",
     "output_type": "stream",
     "text": [
      "success\n"
     ]
    }
   ],
   "source": [
    "#  To store the data into a file using write method\n",
    "f3 = open('data1.txt','w')\n",
    "f3.write('python workshop')\n",
    "f3.close()\n",
    "print('success')"
   ]
  },
  {
   "cell_type": "code",
   "execution_count": 27,
   "id": "ac3e1004-6639-4899-8802-ff2622f56ae3",
   "metadata": {},
   "outputs": [
    {
     "name": "stdout",
     "output_type": "stream",
     "text": [
      "success\n"
     ]
    }
   ],
   "source": [
    "# append()\n",
    "f4 = open('data1.txt','a')\n",
    "f4.write('\\nfiles concept in python')\n",
    "f4.close()\n",
    "print(\"success\")"
   ]
  },
  {
   "cell_type": "code",
   "execution_count": 26,
   "id": "2b9d5e35-7cb2-4e11-89f0-6f068cb091c3",
   "metadata": {},
   "outputs": [
    {
     "name": "stdout",
     "output_type": "stream",
     "text": [
      "python workshopfiles concept in python files concept in python\n"
     ]
    }
   ],
   "source": [
    "# to print the entire data in a file\n",
    "g = open('data1.txt','r')\n",
    "data = g.read()\n",
    "print(data)"
   ]
  },
  {
   "cell_type": "code",
   "execution_count": 28,
   "id": "f95f22bf-9496-4322-8ced-a81519baa269",
   "metadata": {},
   "outputs": [
    {
     "name": "stdout",
     "output_type": "stream",
     "text": [
      "python\n",
      " wo\n"
     ]
    }
   ],
   "source": [
    "# to read n no of character in a file\n",
    "f5 = open('data1.txt','r')\n",
    "print(f5.read(6))\n",
    "print(f5.read(3))"
   ]
  },
  {
   "cell_type": "code",
   "execution_count": 29,
   "id": "718cad5a-c5e5-4f60-a735-61459a9d0bb7",
   "metadata": {},
   "outputs": [
    {
     "name": "stdout",
     "output_type": "stream",
     "text": [
      "python workshopfiles concept in python files concept in python\n",
      "files concept in python\n"
     ]
    }
   ],
   "source": [
    "# with()  - we don't needto close the file\n",
    "with open('data1.txt')as f1:\n",
    "    print(f1.read())"
   ]
  },
  {
   "cell_type": "code",
   "execution_count": 30,
   "id": "5181e56f-b7cb-471a-9806-bc35870be548",
   "metadata": {},
   "outputs": [
    {
     "name": "stdout",
     "output_type": "stream",
     "text": [
      "python workshopfiles concept in python files concept in python\n",
      "\n"
     ]
    }
   ],
   "source": [
    "# readline()    -- it prints only 1st line of data in your file\n",
    "with open('data1.txt')as f2:\n",
    "    print(f2.readline())"
   ]
  },
  {
   "cell_type": "code",
   "execution_count": 31,
   "id": "bc166d12-0476-4f11-aeb2-972b707605d4",
   "metadata": {},
   "outputs": [
    {
     "name": "stdout",
     "output_type": "stream",
     "text": [
      "['python workshopfiles concept in python files concept in python\\n', 'files concept in python']\n"
     ]
    }
   ],
   "source": [
    "# readlines()  -- it prints entire data in your file\n",
    "with open('data1.txt')as f2:\n",
    "    print(f2.readlines())"
   ]
  },
  {
   "cell_type": "code",
   "execution_count": 32,
   "id": "bbda29fc-9c3d-439e-83c4-2d0424a804cf",
   "metadata": {},
   "outputs": [
    {
     "name": "stdout",
     "output_type": "stream",
     "text": [
      "86\n"
     ]
    }
   ],
   "source": [
    "# total no of characters in a file\n",
    "with open('data1.txt')as f:\n",
    "    print(len(f.read()))"
   ]
  },
  {
   "cell_type": "code",
   "execution_count": 33,
   "id": "b236af3a-1bd9-4fd6-85bd-5136a95ccc97",
   "metadata": {},
   "outputs": [
    {
     "name": "stdout",
     "output_type": "stream",
     "text": [
      "2\n"
     ]
    }
   ],
   "source": [
    "# total no of lines in a file\n",
    "with open('data1.txt') as f1:\n",
    "    print(len(f1.readlines()))"
   ]
  },
  {
   "cell_type": "code",
   "execution_count": 37,
   "id": "f2182faa-f861-4f7b-85bd-0ee0b3db1ae1",
   "metadata": {},
   "outputs": [
    {
     "name": "stdout",
     "output_type": "stream",
     "text": [
      "5\n",
      "n wor\n"
     ]
    }
   ],
   "source": [
    "# seek()  -- used to change the cursor position \n",
    "with open('data1.txt') as f:\n",
    "    print(f.seek(5))\n",
    "    print(f.read(5))"
   ]
  },
  {
   "cell_type": "code",
   "execution_count": 41,
   "id": "fa5e9c59-205d-4dd1-9530-52dec3a5241b",
   "metadata": {},
   "outputs": [
    {
     "name": "stdout",
     "output_type": "stream",
     "text": [
      "3\n",
      "hon wor\n",
      "10\n"
     ]
    }
   ],
   "source": [
    "# tell()   -- used to know the cursor position of the file object\n",
    "with open('data1.txt') as f2:\n",
    "    print(f2.seek(3))\n",
    "    print(f2.read(7))\n",
    "    print(f2.tell())"
   ]
  },
  {
   "cell_type": "code",
   "execution_count": 42,
   "id": "a8709b75-d469-4b2d-85ad-9eb6b37011a6",
   "metadata": {},
   "outputs": [
    {
     "name": "stdout",
     "output_type": "stream",
     "text": [
      "['python', 'workshopfiles', 'concept', 'in', 'python', 'files', 'concept', 'in', 'python', 'files', 'concept', 'in', 'python']\n"
     ]
    }
   ],
   "source": [
    "# split()\n",
    "with open('data1.txt') as f:\n",
    "    print(f.read().split())"
   ]
  },
  {
   "cell_type": "markdown",
   "id": "f61a0474-4bf5-4895-989d-1a50cb30e14d",
   "metadata": {},
   "source": [
    "# TASK\n",
    "  1. Count the total no of words in your file\n",
    "  2. Count the total no of spaces in your file"
   ]
  },
  {
   "cell_type": "code",
   "execution_count": 45,
   "id": "93146308-6aed-4462-9d48-a67dfc9b8e7d",
   "metadata": {},
   "outputs": [
    {
     "name": "stdout",
     "output_type": "stream",
     "text": [
      "True\n"
     ]
    }
   ],
   "source": [
    "# file existed or not\n",
    "import os\n",
    "print(os.path.exists('data1.txt'))"
   ]
  },
  {
   "cell_type": "code",
   "execution_count": 47,
   "id": "72d6c348-5bf8-4356-959d-908a76e3a069",
   "metadata": {},
   "outputs": [
    {
     "name": "stdin",
     "output_type": "stream",
     "text": [
      "Enter filename data1.txt\n"
     ]
    },
    {
     "name": "stdout",
     "output_type": "stream",
     "text": [
      "yes\n"
     ]
    },
    {
     "ename": "PermissionError",
     "evalue": "[WinError 32] The process cannot access the file because it is being used by another process: 'data1.txt'",
     "output_type": "error",
     "traceback": [
      "\u001b[1;31m---------------------------------------------------------------------------\u001b[0m",
      "\u001b[1;31mPermissionError\u001b[0m                           Traceback (most recent call last)",
      "Cell \u001b[1;32mIn[47], line 6\u001b[0m\n\u001b[0;32m      4\u001b[0m \u001b[38;5;28;01mif\u001b[39;00m os\u001b[38;5;241m.\u001b[39mpath\u001b[38;5;241m.\u001b[39mexists(filename):\n\u001b[0;32m      5\u001b[0m     \u001b[38;5;28mprint\u001b[39m(\u001b[38;5;124m'\u001b[39m\u001b[38;5;124myes\u001b[39m\u001b[38;5;124m'\u001b[39m)\n\u001b[1;32m----> 6\u001b[0m     os\u001b[38;5;241m.\u001b[39mremove(filename)\n\u001b[0;32m      7\u001b[0m     \u001b[38;5;28mprint\u001b[39m(\u001b[38;5;124m'\u001b[39m\u001b[38;5;124mfile removed successfully\u001b[39m\u001b[38;5;124m'\u001b[39m)\n\u001b[0;32m      8\u001b[0m \u001b[38;5;28;01melse\u001b[39;00m:\n",
      "\u001b[1;31mPermissionError\u001b[0m: [WinError 32] The process cannot access the file because it is being used by another process: 'data1.txt'"
     ]
    }
   ],
   "source": [
    "# hoe to remove the file\n",
    "import os\n",
    "filename = input('Enter filename')\n",
    "if os.path.exists(filename):\n",
    "    print('yes')\n",
    "    os.remove(filename)\n",
    "    print('file removed successfully')\n",
    "else:\n",
    "    print('file does not exist')"
   ]
  },
  {
   "cell_type": "code",
   "execution_count": 4,
   "id": "7f7569d9-6ee7-4a78-b453-a387b519912a",
   "metadata": {},
   "outputs": [
    {
     "name": "stdout",
     "output_type": "stream",
     "text": [
      "[1, 2, 3, 4, 5]\n"
     ]
    }
   ],
   "source": [
    "# convert list of strings to integers\n",
    "# i/p: ['1','2','3','4','5']\n",
    "# o/p: [1,2,3,4]\n",
    "n = ['1','2','3','4','5']\n",
    "integer = list(map(int,n))\n",
    "print(integer)"
   ]
  },
  {
   "cell_type": "code",
   "execution_count": 8,
   "id": "cb23e1e9-3f42-43af-b43b-cb88fc9928a7",
   "metadata": {},
   "outputs": [
    {
     "name": "stdout",
     "output_type": "stream",
     "text": [
      "[5, 10, 15, 65, 75, 30]\n"
     ]
    }
   ],
   "source": [
    "# filter the numbers which is divisible by 5 using filter\n",
    "n = [1,3,5,7,10,15,23,65,75,34,30]\n",
    "d = list(filter(lambda x:x%5==0,n))\n",
    "print(d)"
   ]
  },
  {
   "cell_type": "code",
   "execution_count": 13,
   "id": "5039e924-30ea-423f-a625-bd8bf32ac01d",
   "metadata": {},
   "outputs": [
    {
     "name": "stdout",
     "output_type": "stream",
     "text": [
      "['python', 'workshopfiles', 'concept', 'in', 'python', 'files', 'concept', 'in', 'python', 'files', 'concept', 'in', 'python']\n",
      "87\n"
     ]
    }
   ],
   "source": [
    "# Count the total no of words in your file\n",
    "# Count the total no of spaces in your file\n",
    "with open('data1.txt') as f:\n",
    "    print(f.read().split())\n",
    "    print(f.tell())"
   ]
  },
  {
   "cell_type": "code",
   "execution_count": null,
   "id": "1e941c18-c106-4e9c-8300-255f06f15043",
   "metadata": {},
   "outputs": [],
   "source": []
  }
 ],
 "metadata": {
  "kernelspec": {
   "display_name": "Python 3 (ipykernel)",
   "language": "python",
   "name": "python3"
  },
  "language_info": {
   "codemirror_mode": {
    "name": "ipython",
    "version": 3
   },
   "file_extension": ".py",
   "mimetype": "text/x-python",
   "name": "python",
   "nbconvert_exporter": "python",
   "pygments_lexer": "ipython3",
   "version": "3.12.7"
  }
 },
 "nbformat": 4,
 "nbformat_minor": 5
}
